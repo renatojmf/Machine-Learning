{
  "nbformat": 4,
  "nbformat_minor": 0,
  "metadata": {
    "colab": {
      "name": "lista3.ipynb",
      "provenance": []
    },
    "kernelspec": {
      "name": "python3",
      "display_name": "Python 3"
    },
    "language_info": {
      "name": "python"
    }
  },
  "cells": [
    {
      "cell_type": "code",
      "metadata": {
        "id": "-I33Xi9dd6RL"
      },
      "source": [
        "import pandas as pd # for data analytics\n",
        "import numpy as np # for numerical computation\n",
        "from sklearn.svm import OneClassSVM\n",
        "from sklearn.model_selection import train_test_split\n",
        "from sklearn.metrics import precision_recall_fscore_support, classification_report,confusion_matrix"
      ],
      "execution_count": 555,
      "outputs": []
    },
    {
      "cell_type": "markdown",
      "metadata": {
        "id": "TgCFUs9alWOz"
      },
      "source": [
        "# CM1 Software Prediction"
      ]
    },
    {
      "cell_type": "markdown",
      "metadata": {
        "id": "hg5XHKuSywzr"
      },
      "source": [
        "## Importação e tratamento de dados"
      ]
    },
    {
      "cell_type": "code",
      "metadata": {
        "colab": {
          "base_uri": "https://localhost:8080/",
          "height": 204
        },
        "id": "I7xaaSddeFGI",
        "outputId": "05b4c55a-8951-45e5-a413-2baa723e9ec4"
      },
      "source": [
        "data = pd.read_csv(\"https://raw.githubusercontent.com/renatojmf/Machine-Learning/main/data.csv\",encoding = \"ISO-8859-1\")\n",
        "data[\"defects\"] = data[\"defects\"].astype(int)\n",
        "data.head()"
      ],
      "execution_count": 556,
      "outputs": [
        {
          "output_type": "execute_result",
          "data": {
            "text/html": [
              "<div>\n",
              "<style scoped>\n",
              "    .dataframe tbody tr th:only-of-type {\n",
              "        vertical-align: middle;\n",
              "    }\n",
              "\n",
              "    .dataframe tbody tr th {\n",
              "        vertical-align: top;\n",
              "    }\n",
              "\n",
              "    .dataframe thead th {\n",
              "        text-align: right;\n",
              "    }\n",
              "</style>\n",
              "<table border=\"1\" class=\"dataframe\">\n",
              "  <thead>\n",
              "    <tr style=\"text-align: right;\">\n",
              "      <th></th>\n",
              "      <th>loc</th>\n",
              "      <th>v(g)</th>\n",
              "      <th>ev(g)</th>\n",
              "      <th>iv(g)</th>\n",
              "      <th>n</th>\n",
              "      <th>v</th>\n",
              "      <th>l</th>\n",
              "      <th>d</th>\n",
              "      <th>i</th>\n",
              "      <th>e</th>\n",
              "      <th>b</th>\n",
              "      <th>t</th>\n",
              "      <th>lOCode</th>\n",
              "      <th>lOComment</th>\n",
              "      <th>lOBlank</th>\n",
              "      <th>locCodeAndComment</th>\n",
              "      <th>uniq_Op</th>\n",
              "      <th>uniq_Opnd</th>\n",
              "      <th>total_Op</th>\n",
              "      <th>total_Opnd</th>\n",
              "      <th>branchCount</th>\n",
              "      <th>defects</th>\n",
              "    </tr>\n",
              "  </thead>\n",
              "  <tbody>\n",
              "    <tr>\n",
              "      <th>0</th>\n",
              "      <td>1.1</td>\n",
              "      <td>1.4</td>\n",
              "      <td>1.4</td>\n",
              "      <td>1.4</td>\n",
              "      <td>1.3</td>\n",
              "      <td>1.30</td>\n",
              "      <td>1.30</td>\n",
              "      <td>1.30</td>\n",
              "      <td>1.30</td>\n",
              "      <td>1.30</td>\n",
              "      <td>1.30</td>\n",
              "      <td>1.30</td>\n",
              "      <td>2</td>\n",
              "      <td>2</td>\n",
              "      <td>2</td>\n",
              "      <td>2</td>\n",
              "      <td>1.2</td>\n",
              "      <td>1.2</td>\n",
              "      <td>1.2</td>\n",
              "      <td>1.2</td>\n",
              "      <td>1.4</td>\n",
              "      <td>0</td>\n",
              "    </tr>\n",
              "    <tr>\n",
              "      <th>1</th>\n",
              "      <td>1.0</td>\n",
              "      <td>1.0</td>\n",
              "      <td>1.0</td>\n",
              "      <td>1.0</td>\n",
              "      <td>1.0</td>\n",
              "      <td>1.00</td>\n",
              "      <td>1.00</td>\n",
              "      <td>1.00</td>\n",
              "      <td>1.00</td>\n",
              "      <td>1.00</td>\n",
              "      <td>1.00</td>\n",
              "      <td>1.00</td>\n",
              "      <td>1</td>\n",
              "      <td>1</td>\n",
              "      <td>1</td>\n",
              "      <td>1</td>\n",
              "      <td>1.0</td>\n",
              "      <td>1.0</td>\n",
              "      <td>1.0</td>\n",
              "      <td>1.0</td>\n",
              "      <td>1.0</td>\n",
              "      <td>1</td>\n",
              "    </tr>\n",
              "    <tr>\n",
              "      <th>2</th>\n",
              "      <td>24.0</td>\n",
              "      <td>5.0</td>\n",
              "      <td>1.0</td>\n",
              "      <td>3.0</td>\n",
              "      <td>63.0</td>\n",
              "      <td>309.13</td>\n",
              "      <td>0.11</td>\n",
              "      <td>9.50</td>\n",
              "      <td>32.54</td>\n",
              "      <td>2936.77</td>\n",
              "      <td>0.10</td>\n",
              "      <td>163.15</td>\n",
              "      <td>1</td>\n",
              "      <td>0</td>\n",
              "      <td>6</td>\n",
              "      <td>0</td>\n",
              "      <td>15.0</td>\n",
              "      <td>15.0</td>\n",
              "      <td>44.0</td>\n",
              "      <td>19.0</td>\n",
              "      <td>9.0</td>\n",
              "      <td>0</td>\n",
              "    </tr>\n",
              "    <tr>\n",
              "      <th>3</th>\n",
              "      <td>20.0</td>\n",
              "      <td>4.0</td>\n",
              "      <td>4.0</td>\n",
              "      <td>2.0</td>\n",
              "      <td>47.0</td>\n",
              "      <td>215.49</td>\n",
              "      <td>0.06</td>\n",
              "      <td>16.00</td>\n",
              "      <td>13.47</td>\n",
              "      <td>3447.89</td>\n",
              "      <td>0.07</td>\n",
              "      <td>191.55</td>\n",
              "      <td>0</td>\n",
              "      <td>0</td>\n",
              "      <td>3</td>\n",
              "      <td>0</td>\n",
              "      <td>16.0</td>\n",
              "      <td>8.0</td>\n",
              "      <td>31.0</td>\n",
              "      <td>16.0</td>\n",
              "      <td>7.0</td>\n",
              "      <td>0</td>\n",
              "    </tr>\n",
              "    <tr>\n",
              "      <th>4</th>\n",
              "      <td>24.0</td>\n",
              "      <td>6.0</td>\n",
              "      <td>6.0</td>\n",
              "      <td>2.0</td>\n",
              "      <td>72.0</td>\n",
              "      <td>346.13</td>\n",
              "      <td>0.06</td>\n",
              "      <td>17.33</td>\n",
              "      <td>19.97</td>\n",
              "      <td>5999.58</td>\n",
              "      <td>0.12</td>\n",
              "      <td>333.31</td>\n",
              "      <td>0</td>\n",
              "      <td>0</td>\n",
              "      <td>3</td>\n",
              "      <td>0</td>\n",
              "      <td>16.0</td>\n",
              "      <td>12.0</td>\n",
              "      <td>46.0</td>\n",
              "      <td>26.0</td>\n",
              "      <td>11.0</td>\n",
              "      <td>0</td>\n",
              "    </tr>\n",
              "  </tbody>\n",
              "</table>\n",
              "</div>"
            ],
            "text/plain": [
              "    loc  v(g)  ev(g)  iv(g)  ...  total_Op  total_Opnd  branchCount  defects\n",
              "0   1.1   1.4    1.4    1.4  ...       1.2         1.2          1.4        0\n",
              "1   1.0   1.0    1.0    1.0  ...       1.0         1.0          1.0        1\n",
              "2  24.0   5.0    1.0    3.0  ...      44.0        19.0          9.0        0\n",
              "3  20.0   4.0    4.0    2.0  ...      31.0        16.0          7.0        0\n",
              "4  24.0   6.0    6.0    2.0  ...      46.0        26.0         11.0        0\n",
              "\n",
              "[5 rows x 22 columns]"
            ]
          },
          "metadata": {
            "tags": []
          },
          "execution_count": 556
        }
      ]
    },
    {
      "cell_type": "code",
      "metadata": {
        "id": "c8h7eWYMhWDW"
      },
      "source": [
        "data.loc[data['defects'] == 1, \"Class\"] = -1\n",
        "data.loc[data['defects'] == 0, \"Class\"] = 1"
      ],
      "execution_count": 557,
      "outputs": []
    },
    {
      "cell_type": "markdown",
      "metadata": {
        "id": "z2iecRvFyQRa"
      },
      "source": [
        "## Avaliação com treinamento da classe sem defeitos"
      ]
    },
    {
      "cell_type": "code",
      "metadata": {
        "id": "rPvrtvdszoCA"
      },
      "source": [
        "non_fraud = data[data['Class']==1]\n",
        "df_train, _ = train_test_split(non_fraud, test_size=0.2, random_state=42)\n",
        "fraud = data[data['Class']==-1]"
      ],
      "execution_count": 558,
      "outputs": []
    },
    {
      "cell_type": "code",
      "metadata": {
        "id": "UXZM9wzkeGAc"
      },
      "source": [
        "# training model\n",
        "model = OneClassSVM(kernel = 'rbf', gamma = 0.001, nu = 0.03).fit(df_train)"
      ],
      "execution_count": 559,
      "outputs": []
    },
    {
      "cell_type": "code",
      "metadata": {
        "id": "QTHAOsLQ4zcb"
      },
      "source": [
        "y_val = non_fraud['Class']\n",
        "y_fraud = fraud['Class']\n",
        "y_testval = pd.concat([y_val, y_fraud])\n",
        "y_testval = np.array(y_testval)"
      ],
      "execution_count": 560,
      "outputs": []
    },
    {
      "cell_type": "code",
      "metadata": {
        "colab": {
          "base_uri": "https://localhost:8080/"
        },
        "id": "lUljciRxeWeO",
        "outputId": "4699c388-9cce-4738-fd02-657b5ece0f28"
      },
      "source": [
        "df_testval = pd.concat([non_fraud,fraud])\n",
        "y_pred = model.predict(df_testval)\n",
        "y_pred"
      ],
      "execution_count": 561,
      "outputs": [
        {
          "output_type": "execute_result",
          "data": {
            "text/plain": [
              "array([ 1,  1, -1,  1,  1,  1, -1, -1, -1, -1,  1, -1,  1, -1,  1, -1,  1,\n",
              "       -1,  1,  1,  1,  1, -1,  1,  1,  1,  1,  1,  1,  1, -1, -1,  1, -1,\n",
              "       -1,  1,  1, -1,  1, -1, -1,  1, -1,  1,  1, -1, -1,  1,  1,  1,  1,\n",
              "        1,  1,  1, -1, -1, -1, -1,  1,  1, -1, -1,  1,  1,  1,  1, -1,  1,\n",
              "        1,  1, -1, -1, -1, -1, -1, -1, -1, -1, -1, -1, -1,  1,  1, -1,  1,\n",
              "       -1,  1,  1, -1, -1, -1,  1,  1,  1,  1,  1, -1,  1, -1,  1,  1, -1,\n",
              "        1,  1,  1, -1, -1,  1,  1,  1,  1,  1,  1, -1, -1,  1, -1, -1,  1,\n",
              "       -1,  1, -1, -1,  1,  1,  1, -1,  1,  1,  1,  1,  1, -1, -1,  1,  1,\n",
              "        1, -1,  1,  1,  1,  1, -1, -1,  1,  1, -1,  1, -1, -1,  1, -1,  1,\n",
              "       -1, -1, -1, -1, -1,  1,  1,  1,  1,  1,  1,  1,  1,  1,  1,  1, -1,\n",
              "        1,  1,  1, -1,  1,  1,  1,  1, -1, -1,  1, -1,  1,  1, -1,  1, -1,\n",
              "        1, -1,  1, -1,  1, -1,  1,  1,  1, -1,  1,  1,  1, -1,  1, -1,  1,\n",
              "       -1,  1,  1,  1,  1, -1,  1, -1,  1,  1, -1, -1, -1, -1, -1,  1, -1,\n",
              "        1, -1, -1,  1,  1,  1,  1,  1,  1,  1,  1,  1, -1,  1, -1,  1, -1,\n",
              "       -1,  1,  1, -1,  1,  1,  1, -1,  1, -1,  1,  1,  1,  1, -1,  1,  1,\n",
              "        1, -1,  1, -1, -1,  1, -1,  1,  1, -1,  1, -1,  1, -1,  1,  1, -1,\n",
              "        1,  1,  1, -1,  1, -1, -1, -1,  1,  1,  1,  1,  1, -1, -1,  1,  1,\n",
              "        1, -1,  1,  1,  1, -1, -1, -1, -1, -1,  1, -1,  1, -1,  1,  1, -1,\n",
              "        1,  1,  1,  1,  1, -1, -1, -1, -1,  1,  1, -1, -1,  1, -1,  1,  1,\n",
              "        1,  1, -1,  1,  1,  1, -1,  1,  1,  1, -1, -1, -1,  1,  1,  1, -1,\n",
              "        1, -1, -1,  1, -1, -1,  1, -1, -1,  1,  1,  1, -1, -1, -1, -1,  1,\n",
              "       -1,  1, -1,  1, -1, -1,  1, -1, -1,  1, -1, -1, -1, -1,  1,  1,  1,\n",
              "        1, -1, -1,  1,  1,  1,  1, -1, -1,  1,  1, -1, -1,  1, -1, -1, -1,\n",
              "       -1, -1, -1, -1, -1, -1, -1, -1,  1,  1, -1,  1,  1,  1,  1, -1,  1,\n",
              "        1, -1,  1,  1, -1,  1, -1,  1,  1,  1, -1,  1, -1,  1,  1,  1,  1,\n",
              "        1, -1,  1, -1,  1,  1, -1, -1,  1, -1, -1,  1,  1,  1, -1, -1,  1,\n",
              "        1,  1, -1,  1,  1,  1,  1,  1, -1, -1, -1, -1, -1, -1, -1, -1, -1,\n",
              "       -1, -1, -1, -1, -1, -1, -1, -1, -1, -1, -1, -1, -1, -1, -1, -1, -1,\n",
              "       -1, -1, -1, -1, -1, -1, -1, -1, -1, -1, -1, -1, -1, -1, -1, -1, -1,\n",
              "       -1, -1, -1, -1, -1])"
            ]
          },
          "metadata": {
            "tags": []
          },
          "execution_count": 561
        }
      ]
    },
    {
      "cell_type": "code",
      "metadata": {
        "colab": {
          "base_uri": "https://localhost:8080/"
        },
        "id": "fT97AaAi3_g8",
        "outputId": "2141e2f1-4fc6-4d0d-d616-705903b991b2"
      },
      "source": [
        "tn, fp, fn, tp = confusion_matrix(y_testval, y_pred).ravel()\n",
        "print(f'TN: {tn}, FP: {fp} , FN:{fn}, TP: {tp}')"
      ],
      "execution_count": 562,
      "outputs": [
        {
          "output_type": "stream",
          "text": [
            "TN: 48, FP: 1 , FN:191, TP: 258\n"
          ],
          "name": "stdout"
        }
      ]
    },
    {
      "cell_type": "code",
      "metadata": {
        "colab": {
          "base_uri": "https://localhost:8080/"
        },
        "id": "WWLsivhH5J7T",
        "outputId": "282d64a1-6edb-4cb8-ba38-18d4e05c9a91"
      },
      "source": [
        "print(classification_report(y_testval, y_pred,zero_division=1))"
      ],
      "execution_count": 563,
      "outputs": [
        {
          "output_type": "stream",
          "text": [
            "              precision    recall  f1-score   support\n",
            "\n",
            "        -1.0       0.20      0.98      0.33        49\n",
            "         1.0       1.00      0.57      0.73       449\n",
            "\n",
            "    accuracy                           0.61       498\n",
            "   macro avg       0.60      0.78      0.53       498\n",
            "weighted avg       0.92      0.61      0.69       498\n",
            "\n"
          ],
          "name": "stdout"
        }
      ]
    },
    {
      "cell_type": "code",
      "metadata": {
        "colab": {
          "base_uri": "https://localhost:8080/"
        },
        "id": "ugMNAyfHb-bv",
        "outputId": "df878d6f-0193-46c9-bf33-2163dd2893b2"
      },
      "source": [
        "prec, rec, f2, _ = precision_recall_fscore_support(y_testval, y_pred, beta=2, \n",
        "                                                   pos_label=1, average='binary',zero_division=1)\n",
        "print(f'precision is {prec}, recall is {rec} and F2 score is {f2}')"
      ],
      "execution_count": 564,
      "outputs": [
        {
          "output_type": "stream",
          "text": [
            "precision is 0.9961389961389961, recall is 0.5746102449888641 and F2 score is 0.6277372262773724\n"
          ],
          "name": "stdout"
        }
      ]
    },
    {
      "cell_type": "markdown",
      "metadata": {
        "id": "ZtGK9swyyYCd"
      },
      "source": [
        "## Avaliação com 30% dos dados de treinamento da classe com defeitos"
      ]
    },
    {
      "cell_type": "code",
      "metadata": {
        "id": "awlBTNsTyr4k"
      },
      "source": [
        "non_fraud = data[data['Class']==1]\n",
        "fraud = data[data['Class']==-1]\n",
        "df_train, _ = train_test_split(fraud, test_size=0.7, random_state=42)#treinamento com 30% do conjunto de defeitos"
      ],
      "execution_count": 566,
      "outputs": []
    },
    {
      "cell_type": "code",
      "metadata": {
        "id": "pQcunTgmzB5x"
      },
      "source": [
        "# training model\n",
        "model = OneClassSVM(kernel = 'rbf', gamma = 0.001, nu = 0.03).fit(df_train)"
      ],
      "execution_count": 567,
      "outputs": []
    },
    {
      "cell_type": "code",
      "metadata": {
        "id": "5n7XEvL_zEY3"
      },
      "source": [
        "y_val = non_fraud['Class']\n",
        "y_fraud = fraud['Class']\n",
        "y_testval = pd.concat([y_val, y_fraud])\n",
        "y_testval = np.array(y_testval)"
      ],
      "execution_count": 568,
      "outputs": []
    },
    {
      "cell_type": "code",
      "metadata": {
        "colab": {
          "base_uri": "https://localhost:8080/"
        },
        "id": "-Ay0ijFv0L4u",
        "outputId": "bee04a9c-7a98-447a-f0b2-080754e0257b"
      },
      "source": [
        "df_testval = pd.concat([non_fraud,fraud])\n",
        "y_pred = model.predict(df_testval)\n",
        "y_pred"
      ],
      "execution_count": 569,
      "outputs": [
        {
          "output_type": "execute_result",
          "data": {
            "text/plain": [
              "array([-1, -1, -1, -1, -1, -1, -1, -1, -1, -1, -1, -1, -1, -1, -1, -1, -1,\n",
              "       -1, -1, -1, -1, -1, -1, -1, -1, -1, -1, -1, -1, -1, -1, -1, -1, -1,\n",
              "       -1, -1, -1, -1, -1, -1, -1, -1, -1, -1, -1, -1, -1, -1, -1, -1, -1,\n",
              "       -1, -1, -1, -1, -1, -1, -1, -1, -1, -1, -1, -1, -1, -1, -1, -1, -1,\n",
              "       -1, -1, -1, -1, -1, -1, -1, -1, -1, -1, -1, -1, -1, -1, -1, -1, -1,\n",
              "       -1, -1, -1, -1, -1, -1, -1, -1, -1, -1, -1, -1, -1, -1, -1, -1, -1,\n",
              "       -1, -1, -1, -1, -1, -1, -1, -1, -1, -1, -1, -1, -1, -1, -1, -1, -1,\n",
              "       -1, -1, -1, -1, -1, -1, -1, -1, -1, -1, -1, -1, -1, -1, -1, -1, -1,\n",
              "       -1, -1, -1, -1, -1, -1, -1, -1, -1, -1, -1, -1, -1, -1, -1, -1, -1,\n",
              "       -1, -1, -1, -1, -1, -1, -1, -1, -1, -1, -1, -1, -1, -1, -1, -1, -1,\n",
              "       -1, -1, -1, -1, -1, -1, -1, -1, -1, -1, -1, -1, -1, -1, -1, -1, -1,\n",
              "       -1, -1, -1, -1, -1, -1, -1, -1, -1, -1, -1, -1, -1, -1, -1, -1, -1,\n",
              "       -1, -1, -1, -1, -1, -1, -1, -1, -1, -1, -1, -1, -1, -1, -1, -1, -1,\n",
              "       -1, -1, -1, -1, -1, -1, -1, -1, -1, -1, -1, -1, -1, -1, -1, -1, -1,\n",
              "       -1, -1, -1, -1, -1, -1, -1, -1, -1, -1, -1, -1, -1, -1, -1, -1, -1,\n",
              "       -1, -1, -1, -1, -1, -1, -1, -1, -1, -1, -1, -1, -1, -1, -1, -1, -1,\n",
              "       -1, -1, -1, -1, -1, -1, -1, -1, -1, -1, -1, -1, -1, -1, -1, -1, -1,\n",
              "       -1, -1, -1, -1, -1, -1, -1, -1, -1, -1, -1, -1, -1, -1, -1, -1, -1,\n",
              "       -1, -1, -1, -1, -1, -1, -1, -1, -1, -1, -1, -1, -1, -1, -1, -1, -1,\n",
              "       -1, -1, -1, -1, -1, -1, -1, -1, -1, -1, -1, -1, -1, -1, -1, -1, -1,\n",
              "       -1, -1, -1, -1, -1, -1, -1, -1, -1, -1, -1, -1, -1, -1, -1, -1, -1,\n",
              "       -1, -1, -1, -1, -1, -1, -1, -1, -1, -1, -1, -1, -1, -1, -1, -1, -1,\n",
              "       -1, -1, -1, -1, -1, -1, -1, -1, -1, -1, -1, -1, -1, -1, -1, -1, -1,\n",
              "       -1, -1, -1, -1, -1, -1, -1, -1, -1, -1, -1, -1, -1, -1, -1, -1, -1,\n",
              "       -1, -1, -1, -1, -1, -1, -1, -1, -1, -1, -1, -1, -1, -1, -1, -1, -1,\n",
              "       -1, -1, -1, -1, -1, -1, -1, -1, -1, -1, -1, -1, -1, -1, -1, -1, -1,\n",
              "       -1, -1, -1, -1, -1, -1, -1, -1, -1, -1, -1, -1, -1, -1,  1, -1, -1,\n",
              "       -1, -1, -1, -1,  1, -1, -1, -1, -1, -1,  1, -1, -1, -1, -1, -1, -1,\n",
              "       -1,  1, -1, -1, -1, -1, -1, -1, -1, -1,  1,  1, -1, -1, -1,  1, -1,\n",
              "       -1, -1, -1, -1,  1])"
            ]
          },
          "metadata": {
            "tags": []
          },
          "execution_count": 569
        }
      ]
    },
    {
      "cell_type": "code",
      "metadata": {
        "colab": {
          "base_uri": "https://localhost:8080/"
        },
        "id": "IaOpLpuN66Tg",
        "outputId": "61b9675f-510f-4114-f8c6-5b38b78644dc"
      },
      "source": [
        "tn, fp, fn, tp = confusion_matrix(y_testval, y_pred).ravel()\n",
        "print(f'TN: {tn}, FP: {fp} , FN:{fn}, TP: {tp}')"
      ],
      "execution_count": 570,
      "outputs": [
        {
          "output_type": "stream",
          "text": [
            "TN: 41, FP: 8 , FN:449, TP: 0\n"
          ],
          "name": "stdout"
        }
      ]
    },
    {
      "cell_type": "code",
      "metadata": {
        "colab": {
          "base_uri": "https://localhost:8080/"
        },
        "id": "qR1bQePj0OfB",
        "outputId": "4a7f8136-7a5f-4dd5-9fef-cc21cf369987"
      },
      "source": [
        "print(classification_report(y_testval, y_pred,zero_division=1))"
      ],
      "execution_count": 571,
      "outputs": [
        {
          "output_type": "stream",
          "text": [
            "              precision    recall  f1-score   support\n",
            "\n",
            "        -1.0       0.08      0.84      0.15        49\n",
            "         1.0       0.00      0.00      0.00       449\n",
            "\n",
            "    accuracy                           0.08       498\n",
            "   macro avg       0.04      0.42      0.08       498\n",
            "weighted avg       0.01      0.08      0.01       498\n",
            "\n"
          ],
          "name": "stdout"
        }
      ]
    },
    {
      "cell_type": "code",
      "metadata": {
        "colab": {
          "base_uri": "https://localhost:8080/"
        },
        "id": "42hGNUI20UnY",
        "outputId": "0623d708-596e-4f11-fc99-26a251a08f76"
      },
      "source": [
        "prec, rec, f2, _ = precision_recall_fscore_support(y_testval, y_pred, beta=2, \n",
        "                                                   pos_label=1, average='binary',zero_division=1)\n",
        "print(f'precision is {prec}, recall is {rec} and F2 score is {f2}')"
      ],
      "execution_count": 572,
      "outputs": [
        {
          "output_type": "stream",
          "text": [
            "precision is 0.0, recall is 0.0 and F2 score is 0.0\n"
          ],
          "name": "stdout"
        }
      ]
    },
    {
      "cell_type": "markdown",
      "metadata": {
        "id": "2v89zgzyykdN"
      },
      "source": [
        "## Avaliação com 40% dos dados de treinamento da classe com defeitos"
      ]
    },
    {
      "cell_type": "code",
      "metadata": {
        "id": "Sd5cPoxl0fSs"
      },
      "source": [
        "non_fraud = data[data['Class']==1]\n",
        "fraud = data[data['Class']==-1]\n",
        "df_train, _ = train_test_split(fraud, test_size=0.6, random_state=42)#treinamento com 40% do conjunto de defeitos"
      ],
      "execution_count": 573,
      "outputs": []
    },
    {
      "cell_type": "code",
      "metadata": {
        "id": "tdqc5Vha0mKq"
      },
      "source": [
        "# training model\n",
        "model = OneClassSVM(kernel = 'rbf', gamma = 0.001, nu = 0.03).fit(df_train)"
      ],
      "execution_count": 574,
      "outputs": []
    },
    {
      "cell_type": "code",
      "metadata": {
        "id": "9LNG3WXN0qH7"
      },
      "source": [
        "y_val = non_fraud['Class']\n",
        "y_fraud = fraud['Class']\n",
        "y_testval = pd.concat([y_val, y_fraud])\n",
        "y_testval = np.array(y_testval)"
      ],
      "execution_count": 575,
      "outputs": []
    },
    {
      "cell_type": "code",
      "metadata": {
        "colab": {
          "base_uri": "https://localhost:8080/"
        },
        "id": "jDmMcl7q0swE",
        "outputId": "7bbda2ed-878f-4620-b02a-7c49a15fa688"
      },
      "source": [
        "df_testval = pd.concat([non_fraud,fraud])\n",
        "y_pred = model.predict(df_testval)\n",
        "y_pred"
      ],
      "execution_count": 576,
      "outputs": [
        {
          "output_type": "execute_result",
          "data": {
            "text/plain": [
              "array([-1, -1, -1, -1, -1, -1, -1, -1, -1, -1, -1, -1, -1, -1, -1, -1, -1,\n",
              "       -1, -1, -1, -1, -1, -1, -1, -1, -1, -1, -1, -1, -1, -1, -1, -1, -1,\n",
              "       -1, -1, -1, -1, -1, -1, -1, -1, -1, -1, -1, -1, -1, -1, -1, -1, -1,\n",
              "       -1, -1, -1, -1, -1, -1, -1, -1, -1, -1, -1, -1, -1, -1, -1, -1, -1,\n",
              "       -1, -1, -1, -1, -1, -1, -1, -1, -1, -1, -1, -1, -1, -1, -1, -1, -1,\n",
              "       -1, -1, -1, -1, -1, -1, -1, -1, -1, -1, -1, -1, -1, -1, -1, -1, -1,\n",
              "       -1, -1, -1, -1, -1, -1, -1, -1, -1, -1, -1, -1, -1, -1, -1, -1, -1,\n",
              "       -1, -1, -1, -1, -1, -1, -1, -1, -1, -1, -1, -1, -1, -1, -1, -1, -1,\n",
              "       -1, -1, -1, -1, -1, -1, -1, -1, -1, -1, -1, -1, -1, -1, -1, -1, -1,\n",
              "       -1, -1, -1, -1, -1, -1, -1, -1, -1, -1, -1, -1, -1, -1, -1, -1, -1,\n",
              "       -1, -1, -1, -1, -1, -1, -1, -1, -1, -1, -1, -1, -1, -1, -1, -1, -1,\n",
              "       -1, -1, -1, -1, -1, -1, -1, -1, -1, -1, -1, -1, -1, -1, -1, -1, -1,\n",
              "       -1, -1, -1, -1, -1, -1, -1, -1, -1, -1, -1, -1, -1, -1, -1, -1, -1,\n",
              "       -1, -1, -1, -1, -1, -1, -1, -1, -1, -1, -1, -1, -1, -1, -1, -1, -1,\n",
              "       -1, -1, -1, -1, -1, -1, -1, -1, -1, -1, -1, -1, -1, -1, -1, -1, -1,\n",
              "       -1, -1, -1, -1, -1, -1, -1, -1, -1, -1, -1, -1, -1, -1, -1, -1, -1,\n",
              "       -1, -1, -1, -1, -1, -1, -1, -1, -1, -1, -1, -1, -1, -1, -1, -1, -1,\n",
              "       -1, -1, -1, -1, -1, -1, -1, -1, -1, -1, -1, -1, -1, -1, -1, -1, -1,\n",
              "       -1, -1, -1, -1, -1, -1, -1, -1, -1, -1, -1, -1, -1, -1, -1, -1, -1,\n",
              "       -1, -1, -1, -1, -1, -1, -1, -1, -1, -1, -1, -1, -1, -1, -1, -1, -1,\n",
              "       -1, -1, -1, -1, -1, -1, -1, -1, -1, -1, -1, -1, -1, -1, -1, -1, -1,\n",
              "       -1, -1, -1, -1, -1, -1, -1, -1, -1, -1, -1, -1, -1, -1, -1, -1, -1,\n",
              "       -1, -1, -1, -1, -1, -1, -1, -1, -1, -1, -1, -1, -1, -1, -1, -1, -1,\n",
              "       -1, -1, -1, -1, -1, -1, -1, -1, -1, -1, -1, -1, -1, -1, -1, -1, -1,\n",
              "       -1, -1, -1, -1, -1, -1, -1, -1, -1, -1, -1, -1, -1, -1, -1, -1, -1,\n",
              "       -1, -1, -1, -1, -1, -1, -1, -1, -1, -1, -1, -1, -1, -1, -1, -1, -1,\n",
              "       -1, -1, -1, -1, -1, -1, -1, -1, -1,  1, -1, -1, -1, -1,  1, -1, -1,\n",
              "        1,  1, -1, -1,  1, -1, -1, -1,  1, -1,  1,  1,  1,  1, -1, -1, -1,\n",
              "       -1,  1, -1, -1, -1, -1, -1, -1,  1, -1,  1,  1,  1, -1, -1,  1, -1,\n",
              "       -1, -1, -1, -1,  1])"
            ]
          },
          "metadata": {
            "tags": []
          },
          "execution_count": 576
        }
      ]
    },
    {
      "cell_type": "code",
      "metadata": {
        "colab": {
          "base_uri": "https://localhost:8080/"
        },
        "id": "ZFhjXQMZ69mG",
        "outputId": "d7ddc5ce-fd75-464e-b266-5040830fd6eb"
      },
      "source": [
        "tn, fp, fn, tp = confusion_matrix(y_testval, y_pred).ravel()\n",
        "print(f'TN: {tn}, FP: {fp} , FN:{fn}, TP: {tp}')"
      ],
      "execution_count": 577,
      "outputs": [
        {
          "output_type": "stream",
          "text": [
            "TN: 32, FP: 17 , FN:449, TP: 0\n"
          ],
          "name": "stdout"
        }
      ]
    },
    {
      "cell_type": "code",
      "metadata": {
        "colab": {
          "base_uri": "https://localhost:8080/"
        },
        "id": "ImD9dujs0ukO",
        "outputId": "6bc158ba-a74f-4f46-b06c-15a1ce75cc37"
      },
      "source": [
        "print(classification_report(y_testval, y_pred,zero_division=1))"
      ],
      "execution_count": 578,
      "outputs": [
        {
          "output_type": "stream",
          "text": [
            "              precision    recall  f1-score   support\n",
            "\n",
            "        -1.0       0.07      0.65      0.12        49\n",
            "         1.0       0.00      0.00      0.00       449\n",
            "\n",
            "    accuracy                           0.06       498\n",
            "   macro avg       0.03      0.33      0.06       498\n",
            "weighted avg       0.01      0.06      0.01       498\n",
            "\n"
          ],
          "name": "stdout"
        }
      ]
    },
    {
      "cell_type": "code",
      "metadata": {
        "colab": {
          "base_uri": "https://localhost:8080/"
        },
        "id": "Zff0PhQo0v9e",
        "outputId": "962aba6d-575b-418d-c000-757592d62cff"
      },
      "source": [
        "prec, rec, f2, _ = precision_recall_fscore_support(y_testval, y_pred, beta=2, \n",
        "                                                   pos_label=1, average='binary',zero_division=1)\n",
        "print(f'precision is {prec}, recall is {rec} and F2 score is {f2}')"
      ],
      "execution_count": 579,
      "outputs": [
        {
          "output_type": "stream",
          "text": [
            "precision is 0.0, recall is 0.0 and F2 score is 0.0\n"
          ],
          "name": "stdout"
        }
      ]
    },
    {
      "cell_type": "markdown",
      "metadata": {
        "id": "7wdmdGCRyoOg"
      },
      "source": [
        "## Avaliação com 50% dos dados de treinamento da classe com defeitos"
      ]
    },
    {
      "cell_type": "code",
      "metadata": {
        "id": "SDNQefVf0gCI"
      },
      "source": [
        "non_fraud = data[data['Class']==1]\n",
        "fraud = data[data['Class']==-1]\n",
        "df_train, _ = train_test_split(fraud, test_size=0.6, random_state=42)#treinamento com 50% do conjunto de defeitos"
      ],
      "execution_count": 580,
      "outputs": []
    },
    {
      "cell_type": "code",
      "metadata": {
        "id": "1L_dK1s_0_Ko"
      },
      "source": [
        "# training model\n",
        "model = OneClassSVM(kernel = 'rbf', gamma = 0.001, nu = 0.03).fit(df_train)"
      ],
      "execution_count": 581,
      "outputs": []
    },
    {
      "cell_type": "code",
      "metadata": {
        "id": "eBp6h80I1BCQ"
      },
      "source": [
        "y_val = non_fraud['Class']\n",
        "y_fraud = fraud['Class']\n",
        "y_testval = pd.concat([y_val, y_fraud])\n",
        "y_testval = np.array(y_testval)"
      ],
      "execution_count": 582,
      "outputs": []
    },
    {
      "cell_type": "code",
      "metadata": {
        "colab": {
          "base_uri": "https://localhost:8080/"
        },
        "id": "awx1fl2q1DEi",
        "outputId": "df72bb1a-d89a-434d-b8d4-d65d7595b0c0"
      },
      "source": [
        "df_testval = pd.concat([non_fraud,fraud])\n",
        "y_pred = model.predict(df_testval)\n",
        "y_pred"
      ],
      "execution_count": 583,
      "outputs": [
        {
          "output_type": "execute_result",
          "data": {
            "text/plain": [
              "array([-1, -1, -1, -1, -1, -1, -1, -1, -1, -1, -1, -1, -1, -1, -1, -1, -1,\n",
              "       -1, -1, -1, -1, -1, -1, -1, -1, -1, -1, -1, -1, -1, -1, -1, -1, -1,\n",
              "       -1, -1, -1, -1, -1, -1, -1, -1, -1, -1, -1, -1, -1, -1, -1, -1, -1,\n",
              "       -1, -1, -1, -1, -1, -1, -1, -1, -1, -1, -1, -1, -1, -1, -1, -1, -1,\n",
              "       -1, -1, -1, -1, -1, -1, -1, -1, -1, -1, -1, -1, -1, -1, -1, -1, -1,\n",
              "       -1, -1, -1, -1, -1, -1, -1, -1, -1, -1, -1, -1, -1, -1, -1, -1, -1,\n",
              "       -1, -1, -1, -1, -1, -1, -1, -1, -1, -1, -1, -1, -1, -1, -1, -1, -1,\n",
              "       -1, -1, -1, -1, -1, -1, -1, -1, -1, -1, -1, -1, -1, -1, -1, -1, -1,\n",
              "       -1, -1, -1, -1, -1, -1, -1, -1, -1, -1, -1, -1, -1, -1, -1, -1, -1,\n",
              "       -1, -1, -1, -1, -1, -1, -1, -1, -1, -1, -1, -1, -1, -1, -1, -1, -1,\n",
              "       -1, -1, -1, -1, -1, -1, -1, -1, -1, -1, -1, -1, -1, -1, -1, -1, -1,\n",
              "       -1, -1, -1, -1, -1, -1, -1, -1, -1, -1, -1, -1, -1, -1, -1, -1, -1,\n",
              "       -1, -1, -1, -1, -1, -1, -1, -1, -1, -1, -1, -1, -1, -1, -1, -1, -1,\n",
              "       -1, -1, -1, -1, -1, -1, -1, -1, -1, -1, -1, -1, -1, -1, -1, -1, -1,\n",
              "       -1, -1, -1, -1, -1, -1, -1, -1, -1, -1, -1, -1, -1, -1, -1, -1, -1,\n",
              "       -1, -1, -1, -1, -1, -1, -1, -1, -1, -1, -1, -1, -1, -1, -1, -1, -1,\n",
              "       -1, -1, -1, -1, -1, -1, -1, -1, -1, -1, -1, -1, -1, -1, -1, -1, -1,\n",
              "       -1, -1, -1, -1, -1, -1, -1, -1, -1, -1, -1, -1, -1, -1, -1, -1, -1,\n",
              "       -1, -1, -1, -1, -1, -1, -1, -1, -1, -1, -1, -1, -1, -1, -1, -1, -1,\n",
              "       -1, -1, -1, -1, -1, -1, -1, -1, -1, -1, -1, -1, -1, -1, -1, -1, -1,\n",
              "       -1, -1, -1, -1, -1, -1, -1, -1, -1, -1, -1, -1, -1, -1, -1, -1, -1,\n",
              "       -1, -1, -1, -1, -1, -1, -1, -1, -1, -1, -1, -1, -1, -1, -1, -1, -1,\n",
              "       -1, -1, -1, -1, -1, -1, -1, -1, -1, -1, -1, -1, -1, -1, -1, -1, -1,\n",
              "       -1, -1, -1, -1, -1, -1, -1, -1, -1, -1, -1, -1, -1, -1, -1, -1, -1,\n",
              "       -1, -1, -1, -1, -1, -1, -1, -1, -1, -1, -1, -1, -1, -1, -1, -1, -1,\n",
              "       -1, -1, -1, -1, -1, -1, -1, -1, -1, -1, -1, -1, -1, -1, -1, -1, -1,\n",
              "       -1, -1, -1, -1, -1, -1, -1, -1, -1,  1, -1, -1, -1, -1,  1, -1, -1,\n",
              "        1,  1, -1, -1,  1, -1, -1, -1,  1, -1,  1,  1,  1,  1, -1, -1, -1,\n",
              "       -1,  1, -1, -1, -1, -1, -1, -1,  1, -1,  1,  1,  1, -1, -1,  1, -1,\n",
              "       -1, -1, -1, -1,  1])"
            ]
          },
          "metadata": {
            "tags": []
          },
          "execution_count": 583
        }
      ]
    },
    {
      "cell_type": "code",
      "metadata": {
        "colab": {
          "base_uri": "https://localhost:8080/"
        },
        "id": "Z7_ymZzw6_br",
        "outputId": "a3fbd138-ba9c-4392-d1f0-411639ce7355"
      },
      "source": [
        "tn, fp, fn, tp = confusion_matrix(y_testval, y_pred).ravel()\n",
        "print(f'TN: {tn}, FP: {fp} , FN:{fn}, TP: {tp}')"
      ],
      "execution_count": 584,
      "outputs": [
        {
          "output_type": "stream",
          "text": [
            "TN: 32, FP: 17 , FN:449, TP: 0\n"
          ],
          "name": "stdout"
        }
      ]
    },
    {
      "cell_type": "code",
      "metadata": {
        "colab": {
          "base_uri": "https://localhost:8080/"
        },
        "id": "gur36X_71Esx",
        "outputId": "e79cd4b7-20d0-4a34-929e-4736ec629077"
      },
      "source": [
        "print(classification_report(y_testval, y_pred,zero_division=1))"
      ],
      "execution_count": 585,
      "outputs": [
        {
          "output_type": "stream",
          "text": [
            "              precision    recall  f1-score   support\n",
            "\n",
            "        -1.0       0.07      0.65      0.12        49\n",
            "         1.0       0.00      0.00      0.00       449\n",
            "\n",
            "    accuracy                           0.06       498\n",
            "   macro avg       0.03      0.33      0.06       498\n",
            "weighted avg       0.01      0.06      0.01       498\n",
            "\n"
          ],
          "name": "stdout"
        }
      ]
    },
    {
      "cell_type": "code",
      "metadata": {
        "colab": {
          "base_uri": "https://localhost:8080/"
        },
        "id": "BGinkgId1Gx7",
        "outputId": "da937c6e-1761-493f-a9e7-7c805221754e"
      },
      "source": [
        "prec, rec, f2, _ = precision_recall_fscore_support(y_testval, y_pred, beta=2, \n",
        "                                                   pos_label=1, average='binary',zero_division=1)\n",
        "print(f'precision is {prec}, recall is {rec} and F2 score is {f2}')"
      ],
      "execution_count": 586,
      "outputs": [
        {
          "output_type": "stream",
          "text": [
            "precision is 0.0, recall is 0.0 and F2 score is 0.0\n"
          ],
          "name": "stdout"
        }
      ]
    },
    {
      "cell_type": "markdown",
      "metadata": {
        "id": "2DyRIe1TlipS"
      },
      "source": [
        "# KC1 Software Prediction"
      ]
    },
    {
      "cell_type": "markdown",
      "metadata": {
        "id": "FQ5QdFTS1Z1R"
      },
      "source": [
        "## Importação e tratamento de dados"
      ]
    },
    {
      "cell_type": "code",
      "metadata": {
        "colab": {
          "base_uri": "https://localhost:8080/",
          "height": 204
        },
        "id": "38OdrSglltGp",
        "outputId": "75b34af0-b2c2-489b-adde-c81ba995af0e"
      },
      "source": [
        "Kc1data = pd.read_csv(\"https://raw.githubusercontent.com/renatojmf/Machine-Learning/main/kc1Data.csv\",encoding = \"ISO-8859-1\")\n",
        "Kc1data[\"defects\"] = Kc1data[\"defects\"].astype(int)\n",
        "Kc1data.head()"
      ],
      "execution_count": 587,
      "outputs": [
        {
          "output_type": "execute_result",
          "data": {
            "text/html": [
              "<div>\n",
              "<style scoped>\n",
              "    .dataframe tbody tr th:only-of-type {\n",
              "        vertical-align: middle;\n",
              "    }\n",
              "\n",
              "    .dataframe tbody tr th {\n",
              "        vertical-align: top;\n",
              "    }\n",
              "\n",
              "    .dataframe thead th {\n",
              "        text-align: right;\n",
              "    }\n",
              "</style>\n",
              "<table border=\"1\" class=\"dataframe\">\n",
              "  <thead>\n",
              "    <tr style=\"text-align: right;\">\n",
              "      <th></th>\n",
              "      <th>loc</th>\n",
              "      <th>v(g)</th>\n",
              "      <th>ev(g)</th>\n",
              "      <th>iv(g)</th>\n",
              "      <th>n</th>\n",
              "      <th>v</th>\n",
              "      <th>l</th>\n",
              "      <th>d</th>\n",
              "      <th>i</th>\n",
              "      <th>e</th>\n",
              "      <th>b</th>\n",
              "      <th>t</th>\n",
              "      <th>lOCode</th>\n",
              "      <th>lOComment</th>\n",
              "      <th>lOBlank</th>\n",
              "      <th>locCodeAndComment</th>\n",
              "      <th>uniq_Op</th>\n",
              "      <th>uniq_Opnd</th>\n",
              "      <th>total_Op</th>\n",
              "      <th>total_Opnd</th>\n",
              "      <th>branchCount</th>\n",
              "      <th>defects</th>\n",
              "    </tr>\n",
              "  </thead>\n",
              "  <tbody>\n",
              "    <tr>\n",
              "      <th>0</th>\n",
              "      <td>1.1</td>\n",
              "      <td>1.4</td>\n",
              "      <td>1.4</td>\n",
              "      <td>1.4</td>\n",
              "      <td>1.3</td>\n",
              "      <td>1.30</td>\n",
              "      <td>1.30</td>\n",
              "      <td>1.30</td>\n",
              "      <td>1.30</td>\n",
              "      <td>1.30</td>\n",
              "      <td>1.30</td>\n",
              "      <td>1.30</td>\n",
              "      <td>2</td>\n",
              "      <td>2</td>\n",
              "      <td>2</td>\n",
              "      <td>2</td>\n",
              "      <td>1.2</td>\n",
              "      <td>1.2</td>\n",
              "      <td>1.2</td>\n",
              "      <td>1.2</td>\n",
              "      <td>1.4</td>\n",
              "      <td>0</td>\n",
              "    </tr>\n",
              "    <tr>\n",
              "      <th>1</th>\n",
              "      <td>1.0</td>\n",
              "      <td>1.0</td>\n",
              "      <td>1.0</td>\n",
              "      <td>1.0</td>\n",
              "      <td>1.0</td>\n",
              "      <td>1.00</td>\n",
              "      <td>1.00</td>\n",
              "      <td>1.00</td>\n",
              "      <td>1.00</td>\n",
              "      <td>1.00</td>\n",
              "      <td>1.00</td>\n",
              "      <td>1.00</td>\n",
              "      <td>1</td>\n",
              "      <td>1</td>\n",
              "      <td>1</td>\n",
              "      <td>1</td>\n",
              "      <td>1.0</td>\n",
              "      <td>1.0</td>\n",
              "      <td>1.0</td>\n",
              "      <td>1.0</td>\n",
              "      <td>1.0</td>\n",
              "      <td>1</td>\n",
              "    </tr>\n",
              "    <tr>\n",
              "      <th>2</th>\n",
              "      <td>83.0</td>\n",
              "      <td>11.0</td>\n",
              "      <td>1.0</td>\n",
              "      <td>11.0</td>\n",
              "      <td>171.0</td>\n",
              "      <td>927.89</td>\n",
              "      <td>0.04</td>\n",
              "      <td>23.04</td>\n",
              "      <td>40.27</td>\n",
              "      <td>21378.61</td>\n",
              "      <td>0.31</td>\n",
              "      <td>1187.70</td>\n",
              "      <td>65</td>\n",
              "      <td>10</td>\n",
              "      <td>6</td>\n",
              "      <td>0</td>\n",
              "      <td>18.0</td>\n",
              "      <td>25.0</td>\n",
              "      <td>107.0</td>\n",
              "      <td>64.0</td>\n",
              "      <td>21.0</td>\n",
              "      <td>1</td>\n",
              "    </tr>\n",
              "    <tr>\n",
              "      <th>3</th>\n",
              "      <td>46.0</td>\n",
              "      <td>8.0</td>\n",
              "      <td>6.0</td>\n",
              "      <td>8.0</td>\n",
              "      <td>141.0</td>\n",
              "      <td>769.78</td>\n",
              "      <td>0.07</td>\n",
              "      <td>14.86</td>\n",
              "      <td>51.81</td>\n",
              "      <td>11436.73</td>\n",
              "      <td>0.26</td>\n",
              "      <td>635.37</td>\n",
              "      <td>37</td>\n",
              "      <td>2</td>\n",
              "      <td>5</td>\n",
              "      <td>0</td>\n",
              "      <td>16.0</td>\n",
              "      <td>28.0</td>\n",
              "      <td>89.0</td>\n",
              "      <td>52.0</td>\n",
              "      <td>15.0</td>\n",
              "      <td>1</td>\n",
              "    </tr>\n",
              "    <tr>\n",
              "      <th>4</th>\n",
              "      <td>25.0</td>\n",
              "      <td>3.0</td>\n",
              "      <td>1.0</td>\n",
              "      <td>3.0</td>\n",
              "      <td>58.0</td>\n",
              "      <td>254.75</td>\n",
              "      <td>0.11</td>\n",
              "      <td>9.35</td>\n",
              "      <td>27.25</td>\n",
              "      <td>2381.95</td>\n",
              "      <td>0.08</td>\n",
              "      <td>132.33</td>\n",
              "      <td>21</td>\n",
              "      <td>0</td>\n",
              "      <td>2</td>\n",
              "      <td>0</td>\n",
              "      <td>11.0</td>\n",
              "      <td>10.0</td>\n",
              "      <td>41.0</td>\n",
              "      <td>17.0</td>\n",
              "      <td>5.0</td>\n",
              "      <td>1</td>\n",
              "    </tr>\n",
              "  </tbody>\n",
              "</table>\n",
              "</div>"
            ],
            "text/plain": [
              "    loc  v(g)  ev(g)  iv(g)  ...  total_Op  total_Opnd  branchCount  defects\n",
              "0   1.1   1.4    1.4    1.4  ...       1.2         1.2          1.4        0\n",
              "1   1.0   1.0    1.0    1.0  ...       1.0         1.0          1.0        1\n",
              "2  83.0  11.0    1.0   11.0  ...     107.0        64.0         21.0        1\n",
              "3  46.0   8.0    6.0    8.0  ...      89.0        52.0         15.0        1\n",
              "4  25.0   3.0    1.0    3.0  ...      41.0        17.0          5.0        1\n",
              "\n",
              "[5 rows x 22 columns]"
            ]
          },
          "metadata": {
            "tags": []
          },
          "execution_count": 587
        }
      ]
    },
    {
      "cell_type": "code",
      "metadata": {
        "id": "96xbigSZl7Uv"
      },
      "source": [
        "Kc1data.loc[Kc1data['defects'] == 1, \"Class\"] = -1\n",
        "Kc1data.loc[Kc1data['defects'] == 0, \"Class\"] = 1"
      ],
      "execution_count": 588,
      "outputs": []
    },
    {
      "cell_type": "markdown",
      "metadata": {
        "id": "n1RCAh1O1cL7"
      },
      "source": [
        "## Avaliação com treinamento da classe sem defeitos"
      ]
    },
    {
      "cell_type": "code",
      "metadata": {
        "id": "xBzBdxf9l7wN"
      },
      "source": [
        "non_fraud = Kc1data[Kc1data['Class']==1]\n",
        "df_train, _ = train_test_split(non_fraud, test_size=0.2, random_state=42)\n",
        "fraud = Kc1data[Kc1data['Class']==-1]"
      ],
      "execution_count": 589,
      "outputs": []
    },
    {
      "cell_type": "code",
      "metadata": {
        "id": "8LsHQfXrmC8k"
      },
      "source": [
        "# training model\n",
        "model = OneClassSVM(kernel = 'rbf', gamma = 0.001, nu = 0.03).fit(df_train)"
      ],
      "execution_count": 590,
      "outputs": []
    },
    {
      "cell_type": "code",
      "metadata": {
        "id": "nDNiSIfjmG48"
      },
      "source": [
        "y_val = non_fraud['Class']\n",
        "y_fraud = fraud['Class']\n",
        "y_testval = pd.concat([y_val, y_fraud])\n",
        "y_testval = np.array(y_testval)"
      ],
      "execution_count": 591,
      "outputs": []
    },
    {
      "cell_type": "code",
      "metadata": {
        "colab": {
          "base_uri": "https://localhost:8080/"
        },
        "id": "uLWdzENBmP0d",
        "outputId": "5cacfc20-2beb-4235-f31c-96616043a877"
      },
      "source": [
        "df_testval = pd.concat([non_fraud,fraud])\n",
        "y_pred = model.predict(df_testval)\n",
        "y_pred"
      ],
      "execution_count": 592,
      "outputs": [
        {
          "output_type": "execute_result",
          "data": {
            "text/plain": [
              "array([ 1,  1,  1, ..., -1, -1, -1])"
            ]
          },
          "metadata": {
            "tags": []
          },
          "execution_count": 592
        }
      ]
    },
    {
      "cell_type": "code",
      "metadata": {
        "colab": {
          "base_uri": "https://localhost:8080/"
        },
        "id": "o4iChodU7BZT",
        "outputId": "1a9b4859-ee71-403c-ec81-4d66afe220a3"
      },
      "source": [
        "tn, fp, fn, tp = confusion_matrix(y_testval, y_pred).ravel()\n",
        "print(f'TN: {tn}, FP: {fp} , FN:{fn}, TP: {tp}')"
      ],
      "execution_count": 593,
      "outputs": [
        {
          "output_type": "stream",
          "text": [
            "TN: 269, FP: 57 , FN:376, TP: 1407\n"
          ],
          "name": "stdout"
        }
      ]
    },
    {
      "cell_type": "code",
      "metadata": {
        "colab": {
          "base_uri": "https://localhost:8080/"
        },
        "id": "TCjp42SKmQUL",
        "outputId": "106ec905-c574-408c-bb56-bf29daf8f003"
      },
      "source": [
        "print(classification_report(y_testval, y_pred,zero_division=1))"
      ],
      "execution_count": 594,
      "outputs": [
        {
          "output_type": "stream",
          "text": [
            "              precision    recall  f1-score   support\n",
            "\n",
            "        -1.0       0.42      0.83      0.55       326\n",
            "         1.0       0.96      0.79      0.87      1783\n",
            "\n",
            "    accuracy                           0.79      2109\n",
            "   macro avg       0.69      0.81      0.71      2109\n",
            "weighted avg       0.88      0.79      0.82      2109\n",
            "\n"
          ],
          "name": "stdout"
        }
      ]
    },
    {
      "cell_type": "code",
      "metadata": {
        "colab": {
          "base_uri": "https://localhost:8080/"
        },
        "id": "gi7eCWyamVY8",
        "outputId": "60e05473-a9e4-4cdc-e498-720ebd80b666"
      },
      "source": [
        "prec, rec, f2, _ = precision_recall_fscore_support(y_testval, y_pred, beta=2, \n",
        "                                                   pos_label=1, average='binary',zero_division=1)\n",
        "print(f'precision is {prec}, recall is {rec} and F2 score is {f2}')"
      ],
      "execution_count": 595,
      "outputs": [
        {
          "output_type": "stream",
          "text": [
            "precision is 0.9610655737704918, recall is 0.7891194615816041 and F2 score is 0.8184039087947883\n"
          ],
          "name": "stdout"
        }
      ]
    },
    {
      "cell_type": "markdown",
      "metadata": {
        "id": "rhw4r_2e2NAD"
      },
      "source": [
        "## Avaliação com 30% dos dados de treinamento da classe com defeitos"
      ]
    },
    {
      "cell_type": "code",
      "metadata": {
        "id": "vmgSoK_o2NAE"
      },
      "source": [
        "non_fraud = Kc1data[Kc1data['Class']==1]\n",
        "fraud = Kc1data[Kc1data['Class']==-1]\n",
        "df_train, _ = train_test_split(fraud, test_size=0.7, random_state=42)#treinamento com 30% do conjunto de defeitos"
      ],
      "execution_count": 596,
      "outputs": []
    },
    {
      "cell_type": "code",
      "metadata": {
        "id": "RqSW-xr82NAE"
      },
      "source": [
        "# training model\n",
        "model = OneClassSVM(kernel = 'rbf', gamma = 0.001, nu = 0.03).fit(df_train)"
      ],
      "execution_count": 597,
      "outputs": []
    },
    {
      "cell_type": "code",
      "metadata": {
        "id": "L9cH7m662NAE"
      },
      "source": [
        "y_val = non_fraud['Class']\n",
        "y_fraud = fraud['Class']\n",
        "y_testval = pd.concat([y_val, y_fraud])\n",
        "y_testval = np.array(y_testval)"
      ],
      "execution_count": 598,
      "outputs": []
    },
    {
      "cell_type": "code",
      "metadata": {
        "colab": {
          "base_uri": "https://localhost:8080/"
        },
        "id": "AhHu3NMQ2NAE",
        "outputId": "f1d072f5-e7ac-43ac-afea-7796b8fe9139"
      },
      "source": [
        "df_testval = pd.concat([non_fraud,fraud])\n",
        "y_pred = model.predict(df_testval)\n",
        "y_pred"
      ],
      "execution_count": 599,
      "outputs": [
        {
          "output_type": "execute_result",
          "data": {
            "text/plain": [
              "array([-1, -1, -1, ..., -1, -1,  1])"
            ]
          },
          "metadata": {
            "tags": []
          },
          "execution_count": 599
        }
      ]
    },
    {
      "cell_type": "code",
      "metadata": {
        "colab": {
          "base_uri": "https://localhost:8080/"
        },
        "id": "I5XxvMCn7DhF",
        "outputId": "e0ba233c-af44-4d85-c548-a6f3b8c4bbd5"
      },
      "source": [
        "tn, fp, fn, tp = confusion_matrix(y_testval, y_pred).ravel()\n",
        "print(f'TN: {tn}, FP: {fp} , FN:{fn}, TP: {tp}')"
      ],
      "execution_count": 600,
      "outputs": [
        {
          "output_type": "stream",
          "text": [
            "TN: 257, FP: 69 , FN:1234, TP: 549\n"
          ],
          "name": "stdout"
        }
      ]
    },
    {
      "cell_type": "code",
      "metadata": {
        "colab": {
          "base_uri": "https://localhost:8080/"
        },
        "id": "crd-7NrE2NAF",
        "outputId": "89bce251-ee0f-45d9-a53a-67a8be963e46"
      },
      "source": [
        "print(classification_report(y_testval, y_pred,zero_division=1))"
      ],
      "execution_count": 601,
      "outputs": [
        {
          "output_type": "stream",
          "text": [
            "              precision    recall  f1-score   support\n",
            "\n",
            "        -1.0       0.17      0.79      0.28       326\n",
            "         1.0       0.89      0.31      0.46      1783\n",
            "\n",
            "    accuracy                           0.38      2109\n",
            "   macro avg       0.53      0.55      0.37      2109\n",
            "weighted avg       0.78      0.38      0.43      2109\n",
            "\n"
          ],
          "name": "stdout"
        }
      ]
    },
    {
      "cell_type": "code",
      "metadata": {
        "colab": {
          "base_uri": "https://localhost:8080/"
        },
        "id": "6mUVoCcv2NAF",
        "outputId": "82a0c5ee-e7df-43cd-d568-4a6c3451612b"
      },
      "source": [
        "prec, rec, f2, _ = precision_recall_fscore_support(y_testval, y_pred, beta=2, \n",
        "                                                   pos_label=1, average='binary',zero_division=1)\n",
        "print(f'precision is {prec}, recall is {rec} and F2 score is {f2}')"
      ],
      "execution_count": 602,
      "outputs": [
        {
          "output_type": "stream",
          "text": [
            "precision is 0.8883495145631068, recall is 0.30790802019068986 and F2 score is 0.35419354838709677\n"
          ],
          "name": "stdout"
        }
      ]
    },
    {
      "cell_type": "markdown",
      "metadata": {
        "id": "6-8qq7122v4D"
      },
      "source": [
        "## Avaliação com 40% dos dados de treinamento da classe com defeitos"
      ]
    },
    {
      "cell_type": "code",
      "metadata": {
        "id": "DOd2ZjHL2v4M"
      },
      "source": [
        "non_fraud = Kc1data[Kc1data['Class']==1]\n",
        "fraud = Kc1data[Kc1data['Class']==-1]\n",
        "df_train, _ = train_test_split(fraud, test_size=0.6, random_state=42)#treinamento com 30% do conjunto de defeitos"
      ],
      "execution_count": 603,
      "outputs": []
    },
    {
      "cell_type": "code",
      "metadata": {
        "id": "z_1cERIN2v4M"
      },
      "source": [
        "# training model\n",
        "model = OneClassSVM(kernel = 'rbf', gamma = 0.001, nu = 0.03).fit(df_train)"
      ],
      "execution_count": 604,
      "outputs": []
    },
    {
      "cell_type": "code",
      "metadata": {
        "id": "PMdBePKh2v4N"
      },
      "source": [
        "y_val = non_fraud['Class']\n",
        "y_fraud = fraud['Class']\n",
        "y_testval = pd.concat([y_val, y_fraud])\n",
        "y_testval = np.array(y_testval)"
      ],
      "execution_count": 605,
      "outputs": []
    },
    {
      "cell_type": "code",
      "metadata": {
        "colab": {
          "base_uri": "https://localhost:8080/"
        },
        "id": "TovMmWkM2v4N",
        "outputId": "e371cba7-9e58-4edd-d1ae-5ac6a3d90d54"
      },
      "source": [
        "df_testval = pd.concat([non_fraud,fraud])\n",
        "y_pred = model.predict(df_testval)\n",
        "y_pred"
      ],
      "execution_count": 606,
      "outputs": [
        {
          "output_type": "execute_result",
          "data": {
            "text/plain": [
              "array([-1, -1,  1, ..., -1, -1, -1])"
            ]
          },
          "metadata": {
            "tags": []
          },
          "execution_count": 606
        }
      ]
    },
    {
      "cell_type": "code",
      "metadata": {
        "colab": {
          "base_uri": "https://localhost:8080/"
        },
        "id": "aLD3zYRS7EfB",
        "outputId": "6b83c564-9617-4e0f-de12-cda6dc1b8cd2"
      },
      "source": [
        "tn, fp, fn, tp = confusion_matrix(y_testval, y_pred).ravel()\n",
        "print(f'TN: {tn}, FP: {fp} , FN:{fn}, TP: {tp}')"
      ],
      "execution_count": 607,
      "outputs": [
        {
          "output_type": "stream",
          "text": [
            "TN: 235, FP: 91 , FN:1111, TP: 672\n"
          ],
          "name": "stdout"
        }
      ]
    },
    {
      "cell_type": "code",
      "metadata": {
        "colab": {
          "base_uri": "https://localhost:8080/"
        },
        "id": "lJCncOYV2v4O",
        "outputId": "9e85b1d1-3aef-42c1-adc1-76a217d37ba6"
      },
      "source": [
        "print(classification_report(y_testval, y_pred,zero_division=1))"
      ],
      "execution_count": 608,
      "outputs": [
        {
          "output_type": "stream",
          "text": [
            "              precision    recall  f1-score   support\n",
            "\n",
            "        -1.0       0.17      0.72      0.28       326\n",
            "         1.0       0.88      0.38      0.53      1783\n",
            "\n",
            "    accuracy                           0.43      2109\n",
            "   macro avg       0.53      0.55      0.40      2109\n",
            "weighted avg       0.77      0.43      0.49      2109\n",
            "\n"
          ],
          "name": "stdout"
        }
      ]
    },
    {
      "cell_type": "code",
      "metadata": {
        "colab": {
          "base_uri": "https://localhost:8080/"
        },
        "id": "SPqa0pzz2v4O",
        "outputId": "949ca63e-e08a-4f3f-b9b3-b824302b3332"
      },
      "source": [
        "prec, rec, f2, _ = precision_recall_fscore_support(y_testval, y_pred, beta=2, \n",
        "                                                   pos_label=1, average='binary',zero_division=1)\n",
        "print(f'precision is {prec}, recall is {rec} and F2 score is {f2}')"
      ],
      "execution_count": 609,
      "outputs": [
        {
          "output_type": "stream",
          "text": [
            "precision is 0.8807339449541285, recall is 0.37689287717330344 and F2 score is 0.42558581380620647\n"
          ],
          "name": "stdout"
        }
      ]
    },
    {
      "cell_type": "markdown",
      "metadata": {
        "id": "aAS5jScL23kL"
      },
      "source": [
        "## Avaliação com 50% dos dados de treinamento da classe com defeitos"
      ]
    },
    {
      "cell_type": "code",
      "metadata": {
        "id": "AswZtUxF23kL"
      },
      "source": [
        "non_fraud = Kc1data[Kc1data['Class']==1]\n",
        "fraud = Kc1data[Kc1data['Class']==-1]\n",
        "df_train, _ = train_test_split(fraud, test_size=0.5, random_state=42)#treinamento com 30% do conjunto de defeitos"
      ],
      "execution_count": 610,
      "outputs": []
    },
    {
      "cell_type": "code",
      "metadata": {
        "id": "NdSfn7zs23kM"
      },
      "source": [
        "# training model\n",
        "model = OneClassSVM(kernel = 'rbf', gamma = 0.001, nu = 0.03).fit(df_train)"
      ],
      "execution_count": 611,
      "outputs": []
    },
    {
      "cell_type": "code",
      "metadata": {
        "id": "bYs4t-rM23kM"
      },
      "source": [
        "y_val = non_fraud['Class']\n",
        "y_fraud = fraud['Class']\n",
        "y_testval = pd.concat([y_val, y_fraud])\n",
        "y_testval = np.array(y_testval)"
      ],
      "execution_count": 612,
      "outputs": []
    },
    {
      "cell_type": "code",
      "metadata": {
        "colab": {
          "base_uri": "https://localhost:8080/"
        },
        "id": "R6fB22uB23kO",
        "outputId": "330080ea-b6ca-40fb-f385-a65ce545b21a"
      },
      "source": [
        "df_testval = pd.concat([non_fraud,fraud])\n",
        "y_pred = model.predict(df_testval)\n",
        "y_pred"
      ],
      "execution_count": 613,
      "outputs": [
        {
          "output_type": "execute_result",
          "data": {
            "text/plain": [
              "array([-1, -1, -1, ..., -1, -1, -1])"
            ]
          },
          "metadata": {
            "tags": []
          },
          "execution_count": 613
        }
      ]
    },
    {
      "cell_type": "code",
      "metadata": {
        "colab": {
          "base_uri": "https://localhost:8080/"
        },
        "id": "Wtg5gMsc7FTK",
        "outputId": "bf0304c3-5a27-47f2-bcd0-1dd77f2f07e7"
      },
      "source": [
        "tn, fp, fn, tp = confusion_matrix(y_testval, y_pred).ravel()\n",
        "print(f'TN: {tn}, FP: {fp} , FN:{fn}, TP: {tp}')"
      ],
      "execution_count": 614,
      "outputs": [
        {
          "output_type": "stream",
          "text": [
            "TN: 242, FP: 84 , FN:1206, TP: 577\n"
          ],
          "name": "stdout"
        }
      ]
    },
    {
      "cell_type": "code",
      "metadata": {
        "colab": {
          "base_uri": "https://localhost:8080/"
        },
        "id": "XrQxeL9T23kO",
        "outputId": "df284b40-3eb9-4ef4-9057-78df657d0254"
      },
      "source": [
        "print(classification_report(y_testval, y_pred,zero_division=1))"
      ],
      "execution_count": 615,
      "outputs": [
        {
          "output_type": "stream",
          "text": [
            "              precision    recall  f1-score   support\n",
            "\n",
            "        -1.0       0.17      0.74      0.27       326\n",
            "         1.0       0.87      0.32      0.47      1783\n",
            "\n",
            "    accuracy                           0.39      2109\n",
            "   macro avg       0.52      0.53      0.37      2109\n",
            "weighted avg       0.76      0.39      0.44      2109\n",
            "\n"
          ],
          "name": "stdout"
        }
      ]
    },
    {
      "cell_type": "code",
      "metadata": {
        "colab": {
          "base_uri": "https://localhost:8080/"
        },
        "id": "u89kWKBm23kO",
        "outputId": "95fe2b4d-b40c-4e9d-b794-ec940d2c7ea4"
      },
      "source": [
        "prec, rec, f2, _ = precision_recall_fscore_support(y_testval, y_pred, beta=2, \n",
        "                                                   pos_label=1, average='binary',zero_division=1)\n",
        "print(f'precision is {prec}, recall is {rec} and F2 score is {f2}')"
      ],
      "execution_count": 616,
      "outputs": [
        {
          "output_type": "stream",
          "text": [
            "precision is 0.8729198184568835, recall is 0.3236118900729108 and F2 score is 0.37020402925702556\n"
          ],
          "name": "stdout"
        }
      ]
    }
  ]
}