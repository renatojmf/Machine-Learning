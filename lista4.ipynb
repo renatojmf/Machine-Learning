{
  "nbformat": 4,
  "nbformat_minor": 0,
  "metadata": {
    "colab": {
      "name": "lista4.ipynb",
      "provenance": []
    },
    "kernelspec": {
      "name": "python3",
      "display_name": "Python 3"
    },
    "language_info": {
      "name": "python"
    }
  },
  "cells": [
    {
      "cell_type": "code",
      "metadata": {
        "id": "m-WSliZ5eE9b"
      },
      "source": [
        "import pandas as pd # for data analytics\n",
        "import numpy as np # for numerical computation\n",
        "\n",
        "#models\n",
        "from sklearn.cluster import KMeans\n",
        "from sklearn.naive_bayes import GaussianNB\n",
        "from sklearn.neighbors import KNeighborsClassifier\n",
        "\n",
        "#analytics\n",
        "from sklearn.model_selection import train_test_split,cross_val_score\n",
        "from sklearn.metrics import precision_recall_fscore_support, classification_report,confusion_matrix\n",
        "from matplotlib import pyplot as plt"
      ],
      "execution_count": 132,
      "outputs": []
    },
    {
      "cell_type": "code",
      "metadata": {
        "id": "CbU1gfeilvgJ"
      },
      "source": [
        "#função para normalizar os valores no dataset \n",
        "from sklearn.preprocessing import StandardScaler\n",
        "def normalizacoes(df, column):\n",
        "  X = df.drop(columns=[column])\n",
        "  Y = df[column]\n",
        "\n",
        "  scaler = StandardScaler().fit_transform(X)\n",
        "  X = pd.DataFrame(scaler)\n",
        "  return X, Y"
      ],
      "execution_count": 133,
      "outputs": []
    },
    {
      "cell_type": "markdown",
      "metadata": {
        "id": "ByXIvk-H5_gV"
      },
      "source": [
        "# Análise do CM1"
      ]
    },
    {
      "cell_type": "code",
      "metadata": {
        "colab": {
          "base_uri": "https://localhost:8080/",
          "height": 204
        },
        "id": "GJF008mwezS6",
        "outputId": "68197ede-2125-41d0-ebd9-5e18ae0bbb10"
      },
      "source": [
        "data = pd.read_csv(\"https://raw.githubusercontent.com/renatojmf/Machine-Learning/main/data.csv\",encoding = \"ISO-8859-1\")\n",
        "data[\"defects\"] = data[\"defects\"].astype(int)\n",
        "data.head()"
      ],
      "execution_count": 134,
      "outputs": [
        {
          "output_type": "execute_result",
          "data": {
            "text/html": [
              "<div>\n",
              "<style scoped>\n",
              "    .dataframe tbody tr th:only-of-type {\n",
              "        vertical-align: middle;\n",
              "    }\n",
              "\n",
              "    .dataframe tbody tr th {\n",
              "        vertical-align: top;\n",
              "    }\n",
              "\n",
              "    .dataframe thead th {\n",
              "        text-align: right;\n",
              "    }\n",
              "</style>\n",
              "<table border=\"1\" class=\"dataframe\">\n",
              "  <thead>\n",
              "    <tr style=\"text-align: right;\">\n",
              "      <th></th>\n",
              "      <th>loc</th>\n",
              "      <th>v(g)</th>\n",
              "      <th>ev(g)</th>\n",
              "      <th>iv(g)</th>\n",
              "      <th>n</th>\n",
              "      <th>v</th>\n",
              "      <th>l</th>\n",
              "      <th>d</th>\n",
              "      <th>i</th>\n",
              "      <th>e</th>\n",
              "      <th>b</th>\n",
              "      <th>t</th>\n",
              "      <th>lOCode</th>\n",
              "      <th>lOComment</th>\n",
              "      <th>lOBlank</th>\n",
              "      <th>locCodeAndComment</th>\n",
              "      <th>uniq_Op</th>\n",
              "      <th>uniq_Opnd</th>\n",
              "      <th>total_Op</th>\n",
              "      <th>total_Opnd</th>\n",
              "      <th>branchCount</th>\n",
              "      <th>defects</th>\n",
              "    </tr>\n",
              "  </thead>\n",
              "  <tbody>\n",
              "    <tr>\n",
              "      <th>0</th>\n",
              "      <td>1.1</td>\n",
              "      <td>1.4</td>\n",
              "      <td>1.4</td>\n",
              "      <td>1.4</td>\n",
              "      <td>1.3</td>\n",
              "      <td>1.30</td>\n",
              "      <td>1.30</td>\n",
              "      <td>1.30</td>\n",
              "      <td>1.30</td>\n",
              "      <td>1.30</td>\n",
              "      <td>1.30</td>\n",
              "      <td>1.30</td>\n",
              "      <td>2</td>\n",
              "      <td>2</td>\n",
              "      <td>2</td>\n",
              "      <td>2</td>\n",
              "      <td>1.2</td>\n",
              "      <td>1.2</td>\n",
              "      <td>1.2</td>\n",
              "      <td>1.2</td>\n",
              "      <td>1.4</td>\n",
              "      <td>0</td>\n",
              "    </tr>\n",
              "    <tr>\n",
              "      <th>1</th>\n",
              "      <td>1.0</td>\n",
              "      <td>1.0</td>\n",
              "      <td>1.0</td>\n",
              "      <td>1.0</td>\n",
              "      <td>1.0</td>\n",
              "      <td>1.00</td>\n",
              "      <td>1.00</td>\n",
              "      <td>1.00</td>\n",
              "      <td>1.00</td>\n",
              "      <td>1.00</td>\n",
              "      <td>1.00</td>\n",
              "      <td>1.00</td>\n",
              "      <td>1</td>\n",
              "      <td>1</td>\n",
              "      <td>1</td>\n",
              "      <td>1</td>\n",
              "      <td>1.0</td>\n",
              "      <td>1.0</td>\n",
              "      <td>1.0</td>\n",
              "      <td>1.0</td>\n",
              "      <td>1.0</td>\n",
              "      <td>1</td>\n",
              "    </tr>\n",
              "    <tr>\n",
              "      <th>2</th>\n",
              "      <td>24.0</td>\n",
              "      <td>5.0</td>\n",
              "      <td>1.0</td>\n",
              "      <td>3.0</td>\n",
              "      <td>63.0</td>\n",
              "      <td>309.13</td>\n",
              "      <td>0.11</td>\n",
              "      <td>9.50</td>\n",
              "      <td>32.54</td>\n",
              "      <td>2936.77</td>\n",
              "      <td>0.10</td>\n",
              "      <td>163.15</td>\n",
              "      <td>1</td>\n",
              "      <td>0</td>\n",
              "      <td>6</td>\n",
              "      <td>0</td>\n",
              "      <td>15.0</td>\n",
              "      <td>15.0</td>\n",
              "      <td>44.0</td>\n",
              "      <td>19.0</td>\n",
              "      <td>9.0</td>\n",
              "      <td>0</td>\n",
              "    </tr>\n",
              "    <tr>\n",
              "      <th>3</th>\n",
              "      <td>20.0</td>\n",
              "      <td>4.0</td>\n",
              "      <td>4.0</td>\n",
              "      <td>2.0</td>\n",
              "      <td>47.0</td>\n",
              "      <td>215.49</td>\n",
              "      <td>0.06</td>\n",
              "      <td>16.00</td>\n",
              "      <td>13.47</td>\n",
              "      <td>3447.89</td>\n",
              "      <td>0.07</td>\n",
              "      <td>191.55</td>\n",
              "      <td>0</td>\n",
              "      <td>0</td>\n",
              "      <td>3</td>\n",
              "      <td>0</td>\n",
              "      <td>16.0</td>\n",
              "      <td>8.0</td>\n",
              "      <td>31.0</td>\n",
              "      <td>16.0</td>\n",
              "      <td>7.0</td>\n",
              "      <td>0</td>\n",
              "    </tr>\n",
              "    <tr>\n",
              "      <th>4</th>\n",
              "      <td>24.0</td>\n",
              "      <td>6.0</td>\n",
              "      <td>6.0</td>\n",
              "      <td>2.0</td>\n",
              "      <td>72.0</td>\n",
              "      <td>346.13</td>\n",
              "      <td>0.06</td>\n",
              "      <td>17.33</td>\n",
              "      <td>19.97</td>\n",
              "      <td>5999.58</td>\n",
              "      <td>0.12</td>\n",
              "      <td>333.31</td>\n",
              "      <td>0</td>\n",
              "      <td>0</td>\n",
              "      <td>3</td>\n",
              "      <td>0</td>\n",
              "      <td>16.0</td>\n",
              "      <td>12.0</td>\n",
              "      <td>46.0</td>\n",
              "      <td>26.0</td>\n",
              "      <td>11.0</td>\n",
              "      <td>0</td>\n",
              "    </tr>\n",
              "  </tbody>\n",
              "</table>\n",
              "</div>"
            ],
            "text/plain": [
              "    loc  v(g)  ev(g)  iv(g)  ...  total_Op  total_Opnd  branchCount  defects\n",
              "0   1.1   1.4    1.4    1.4  ...       1.2         1.2          1.4        0\n",
              "1   1.0   1.0    1.0    1.0  ...       1.0         1.0          1.0        1\n",
              "2  24.0   5.0    1.0    3.0  ...      44.0        19.0          9.0        0\n",
              "3  20.0   4.0    4.0    2.0  ...      31.0        16.0          7.0        0\n",
              "4  24.0   6.0    6.0    2.0  ...      46.0        26.0         11.0        0\n",
              "\n",
              "[5 rows x 22 columns]"
            ]
          },
          "metadata": {
            "tags": []
          },
          "execution_count": 134
        }
      ]
    },
    {
      "cell_type": "code",
      "metadata": {
        "id": "DgUFh7Hle6XP"
      },
      "source": [
        "#divisão entre dados de treinamento e testes\n",
        "X = data.drop(['defects'], axis=1)\n",
        "y = data['defects']\n",
        "X_train, X_test, y_train, y_test = train_test_split(X, y,random_state=1)"
      ],
      "execution_count": 135,
      "outputs": []
    },
    {
      "cell_type": "code",
      "metadata": {
        "colab": {
          "base_uri": "https://localhost:8080/"
        },
        "id": "iZD4uPgJgVy4",
        "outputId": "e1e704ca-e3a8-47bc-9e5c-dcaf5e0c634b"
      },
      "source": [
        "k_range = [2,3,4,5,6]\n",
        "k_scores = []\n",
        "\n",
        "for k in k_range:\n",
        "  kmeans = KMeans(n_clusters=k, random_state=0).fit(X,y)\n",
        "  scores = cross_val_score(kmeans, X, y, cv=10, scoring='accuracy')\n",
        "  k_scores.append(scores.mean())\n",
        "\n",
        "print(k_scores)"
      ],
      "execution_count": 136,
      "outputs": [
        {
          "output_type": "stream",
          "text": [
            "[0.8940408163265307, 0.6904489795918367, 0.722, 0.8181224489795916, 0.8021224489795917]\n"
          ],
          "name": "stdout"
        }
      ]
    },
    {
      "cell_type": "code",
      "metadata": {
        "colab": {
          "base_uri": "https://localhost:8080/",
          "height": 296
        },
        "id": "dlBh2EVJhr7E",
        "outputId": "be4c7499-6472-4839-80b4-c505bf61abcd"
      },
      "source": [
        "# plotando o valor de K versus a acurácia no cross-validation\n",
        "plt.plot(k_range, k_scores)\n",
        "plt.xlabel('Value of K for KMeans')\n",
        "plt.ylabel('Cross-Validated Accuracy')"
      ],
      "execution_count": 137,
      "outputs": [
        {
          "output_type": "execute_result",
          "data": {
            "text/plain": [
              "Text(0, 0.5, 'Cross-Validated Accuracy')"
            ]
          },
          "metadata": {
            "tags": []
          },
          "execution_count": 137
        },
        {
          "output_type": "display_data",
          "data": {
            "image/png": "[encoded data removed]",
            "text/plain": [
              "<Figure size 432x288 with 1 Axes>"
            ]
          },
          "metadata": {
            "tags": [],
            "needs_background": "light"
          }
        }
      ]
    },
    {
      "cell_type": "code",
      "metadata": {
        "id": "7Yb6Ivx2iq7P"
      },
      "source": [
        "#gerando o subconjunto para defeitos e sem defeitos\n",
        "fraud = data.loc[data['defects'] == 1]\n",
        "fraud =  data.drop(columns='defects')\n",
        "\n",
        "non_fraud = data.loc[data['defects']== 0]\n",
        "non_fraud = non_fraud.drop(columns='defects')"
      ],
      "execution_count": 138,
      "outputs": []
    },
    {
      "cell_type": "code",
      "metadata": {
        "id": "Z13ctbMnjGdd"
      },
      "source": [
        "#gerando as metaclasses para o agrupamento de defeitos\n",
        "kmeans = KMeans(n_clusters=4, random_state=0)\n",
        "predict_true = kmeans.fit_predict(non_fraud)\n",
        "non_fraud['meta_class'] = predict_true"
      ],
      "execution_count": 139,
      "outputs": []
    },
    {
      "cell_type": "code",
      "metadata": {
        "id": "6KxJmCdajRzL"
      },
      "source": [
        "#gerando as metaclasses para o agrupamento sem defeitos\n",
        "kmeans = KMeans(n_clusters=2, random_state=0)\n",
        "predict_false = kmeans.fit_predict(fraud)\n",
        "fraud['meta_class'] = predict_false"
      ],
      "execution_count": 140,
      "outputs": []
    },
    {
      "cell_type": "code",
      "metadata": {
        "id": "RdXd-i8ijg5c"
      },
      "source": [
        "#transformando os dados em string para melhor funcionamento dos classificadores\n",
        "fraud['meta_class'] = fraud['meta_class'].astype(str)\n",
        "non_fraud['meta_class'] = non_fraud['meta_class'].astype(str)"
      ],
      "execution_count": 141,
      "outputs": []
    },
    {
      "cell_type": "code",
      "metadata": {
        "colab": {
          "base_uri": "https://localhost:8080/"
        },
        "id": "rttxU9HDkatg",
        "outputId": "fbc7137a-d98b-44aa-bd82-05adb9ca14b3"
      },
      "source": [
        "#concatenando os 2 datasets com as novas meta classes\n",
        "df_res = pd.concat([fraud, non_fraud])\n",
        "df_res['meta_class'].unique()"
      ],
      "execution_count": 142,
      "outputs": [
        {
          "output_type": "execute_result",
          "data": {
            "text/plain": [
              "array(['0', '1', '2', '3'], dtype=object)"
            ]
          },
          "metadata": {
            "tags": []
          },
          "execution_count": 142
        }
      ]
    },
    {
      "cell_type": "code",
      "metadata": {
        "colab": {
          "base_uri": "https://localhost:8080/",
          "height": 419
        },
        "id": "TgbFg3vG5fis",
        "outputId": "ed58204f-c409-4f87-e9bd-da4760d7c6e1"
      },
      "source": [
        "df_res"
      ],
      "execution_count": 143,
      "outputs": [
        {
          "output_type": "execute_result",
          "data": {
            "text/html": [
              "<div>\n",
              "<style scoped>\n",
              "    .dataframe tbody tr th:only-of-type {\n",
              "        vertical-align: middle;\n",
              "    }\n",
              "\n",
              "    .dataframe tbody tr th {\n",
              "        vertical-align: top;\n",
              "    }\n",
              "\n",
              "    .dataframe thead th {\n",
              "        text-align: right;\n",
              "    }\n",
              "</style>\n",
              "<table border=\"1\" class=\"dataframe\">\n",
              "  <thead>\n",
              "    <tr style=\"text-align: right;\">\n",
              "      <th></th>\n",
              "      <th>loc</th>\n",
              "      <th>v(g)</th>\n",
              "      <th>ev(g)</th>\n",
              "      <th>iv(g)</th>\n",
              "      <th>n</th>\n",
              "      <th>v</th>\n",
              "      <th>l</th>\n",
              "      <th>d</th>\n",
              "      <th>i</th>\n",
              "      <th>e</th>\n",
              "      <th>b</th>\n",
              "      <th>t</th>\n",
              "      <th>lOCode</th>\n",
              "      <th>lOComment</th>\n",
              "      <th>lOBlank</th>\n",
              "      <th>locCodeAndComment</th>\n",
              "      <th>uniq_Op</th>\n",
              "      <th>uniq_Opnd</th>\n",
              "      <th>total_Op</th>\n",
              "      <th>total_Opnd</th>\n",
              "      <th>branchCount</th>\n",
              "      <th>meta_class</th>\n",
              "    </tr>\n",
              "  </thead>\n",
              "  <tbody>\n",
              "    <tr>\n",
              "      <th>0</th>\n",
              "      <td>1.1</td>\n",
              "      <td>1.4</td>\n",
              "      <td>1.4</td>\n",
              "      <td>1.4</td>\n",
              "      <td>1.3</td>\n",
              "      <td>1.30</td>\n",
              "      <td>1.30</td>\n",
              "      <td>1.30</td>\n",
              "      <td>1.30</td>\n",
              "      <td>1.30</td>\n",
              "      <td>1.30</td>\n",
              "      <td>1.30</td>\n",
              "      <td>2</td>\n",
              "      <td>2</td>\n",
              "      <td>2</td>\n",
              "      <td>2</td>\n",
              "      <td>1.2</td>\n",
              "      <td>1.2</td>\n",
              "      <td>1.2</td>\n",
              "      <td>1.2</td>\n",
              "      <td>1.4</td>\n",
              "      <td>0</td>\n",
              "    </tr>\n",
              "    <tr>\n",
              "      <th>1</th>\n",
              "      <td>1.0</td>\n",
              "      <td>1.0</td>\n",
              "      <td>1.0</td>\n",
              "      <td>1.0</td>\n",
              "      <td>1.0</td>\n",
              "      <td>1.00</td>\n",
              "      <td>1.00</td>\n",
              "      <td>1.00</td>\n",
              "      <td>1.00</td>\n",
              "      <td>1.00</td>\n",
              "      <td>1.00</td>\n",
              "      <td>1.00</td>\n",
              "      <td>1</td>\n",
              "      <td>1</td>\n",
              "      <td>1</td>\n",
              "      <td>1</td>\n",
              "      <td>1.0</td>\n",
              "      <td>1.0</td>\n",
              "      <td>1.0</td>\n",
              "      <td>1.0</td>\n",
              "      <td>1.0</td>\n",
              "      <td>0</td>\n",
              "    </tr>\n",
              "    <tr>\n",
              "      <th>2</th>\n",
              "      <td>24.0</td>\n",
              "      <td>5.0</td>\n",
              "      <td>1.0</td>\n",
              "      <td>3.0</td>\n",
              "      <td>63.0</td>\n",
              "      <td>309.13</td>\n",
              "      <td>0.11</td>\n",
              "      <td>9.50</td>\n",
              "      <td>32.54</td>\n",
              "      <td>2936.77</td>\n",
              "      <td>0.10</td>\n",
              "      <td>163.15</td>\n",
              "      <td>1</td>\n",
              "      <td>0</td>\n",
              "      <td>6</td>\n",
              "      <td>0</td>\n",
              "      <td>15.0</td>\n",
              "      <td>15.0</td>\n",
              "      <td>44.0</td>\n",
              "      <td>19.0</td>\n",
              "      <td>9.0</td>\n",
              "      <td>0</td>\n",
              "    </tr>\n",
              "    <tr>\n",
              "      <th>3</th>\n",
              "      <td>20.0</td>\n",
              "      <td>4.0</td>\n",
              "      <td>4.0</td>\n",
              "      <td>2.0</td>\n",
              "      <td>47.0</td>\n",
              "      <td>215.49</td>\n",
              "      <td>0.06</td>\n",
              "      <td>16.00</td>\n",
              "      <td>13.47</td>\n",
              "      <td>3447.89</td>\n",
              "      <td>0.07</td>\n",
              "      <td>191.55</td>\n",
              "      <td>0</td>\n",
              "      <td>0</td>\n",
              "      <td>3</td>\n",
              "      <td>0</td>\n",
              "      <td>16.0</td>\n",
              "      <td>8.0</td>\n",
              "      <td>31.0</td>\n",
              "      <td>16.0</td>\n",
              "      <td>7.0</td>\n",
              "      <td>0</td>\n",
              "    </tr>\n",
              "    <tr>\n",
              "      <th>4</th>\n",
              "      <td>24.0</td>\n",
              "      <td>6.0</td>\n",
              "      <td>6.0</td>\n",
              "      <td>2.0</td>\n",
              "      <td>72.0</td>\n",
              "      <td>346.13</td>\n",
              "      <td>0.06</td>\n",
              "      <td>17.33</td>\n",
              "      <td>19.97</td>\n",
              "      <td>5999.58</td>\n",
              "      <td>0.12</td>\n",
              "      <td>333.31</td>\n",
              "      <td>0</td>\n",
              "      <td>0</td>\n",
              "      <td>3</td>\n",
              "      <td>0</td>\n",
              "      <td>16.0</td>\n",
              "      <td>12.0</td>\n",
              "      <td>46.0</td>\n",
              "      <td>26.0</td>\n",
              "      <td>11.0</td>\n",
              "      <td>0</td>\n",
              "    </tr>\n",
              "    <tr>\n",
              "      <th>...</th>\n",
              "      <td>...</td>\n",
              "      <td>...</td>\n",
              "      <td>...</td>\n",
              "      <td>...</td>\n",
              "      <td>...</td>\n",
              "      <td>...</td>\n",
              "      <td>...</td>\n",
              "      <td>...</td>\n",
              "      <td>...</td>\n",
              "      <td>...</td>\n",
              "      <td>...</td>\n",
              "      <td>...</td>\n",
              "      <td>...</td>\n",
              "      <td>...</td>\n",
              "      <td>...</td>\n",
              "      <td>...</td>\n",
              "      <td>...</td>\n",
              "      <td>...</td>\n",
              "      <td>...</td>\n",
              "      <td>...</td>\n",
              "      <td>...</td>\n",
              "      <td>...</td>\n",
              "    </tr>\n",
              "    <tr>\n",
              "      <th>445</th>\n",
              "      <td>9.0</td>\n",
              "      <td>3.0</td>\n",
              "      <td>1.0</td>\n",
              "      <td>1.0</td>\n",
              "      <td>41.0</td>\n",
              "      <td>170.97</td>\n",
              "      <td>0.07</td>\n",
              "      <td>14.14</td>\n",
              "      <td>12.09</td>\n",
              "      <td>2417.96</td>\n",
              "      <td>0.06</td>\n",
              "      <td>134.33</td>\n",
              "      <td>0</td>\n",
              "      <td>0</td>\n",
              "      <td>1</td>\n",
              "      <td>0</td>\n",
              "      <td>11.0</td>\n",
              "      <td>7.0</td>\n",
              "      <td>23.0</td>\n",
              "      <td>18.0</td>\n",
              "      <td>5.0</td>\n",
              "      <td>0</td>\n",
              "    </tr>\n",
              "    <tr>\n",
              "      <th>446</th>\n",
              "      <td>11.0</td>\n",
              "      <td>3.0</td>\n",
              "      <td>1.0</td>\n",
              "      <td>1.0</td>\n",
              "      <td>49.0</td>\n",
              "      <td>215.22</td>\n",
              "      <td>0.07</td>\n",
              "      <td>14.67</td>\n",
              "      <td>14.67</td>\n",
              "      <td>3156.61</td>\n",
              "      <td>0.07</td>\n",
              "      <td>175.37</td>\n",
              "      <td>0</td>\n",
              "      <td>0</td>\n",
              "      <td>1</td>\n",
              "      <td>0</td>\n",
              "      <td>12.0</td>\n",
              "      <td>9.0</td>\n",
              "      <td>27.0</td>\n",
              "      <td>22.0</td>\n",
              "      <td>5.0</td>\n",
              "      <td>0</td>\n",
              "    </tr>\n",
              "    <tr>\n",
              "      <th>447</th>\n",
              "      <td>4.0</td>\n",
              "      <td>1.0</td>\n",
              "      <td>1.0</td>\n",
              "      <td>1.0</td>\n",
              "      <td>13.0</td>\n",
              "      <td>39.00</td>\n",
              "      <td>0.33</td>\n",
              "      <td>3.00</td>\n",
              "      <td>13.00</td>\n",
              "      <td>117.00</td>\n",
              "      <td>0.01</td>\n",
              "      <td>6.50</td>\n",
              "      <td>0</td>\n",
              "      <td>0</td>\n",
              "      <td>0</td>\n",
              "      <td>0</td>\n",
              "      <td>4.0</td>\n",
              "      <td>4.0</td>\n",
              "      <td>7.0</td>\n",
              "      <td>6.0</td>\n",
              "      <td>1.0</td>\n",
              "      <td>0</td>\n",
              "    </tr>\n",
              "    <tr>\n",
              "      <th>448</th>\n",
              "      <td>3.0</td>\n",
              "      <td>1.0</td>\n",
              "      <td>1.0</td>\n",
              "      <td>1.0</td>\n",
              "      <td>7.0</td>\n",
              "      <td>19.65</td>\n",
              "      <td>0.40</td>\n",
              "      <td>2.50</td>\n",
              "      <td>7.86</td>\n",
              "      <td>49.13</td>\n",
              "      <td>0.01</td>\n",
              "      <td>2.73</td>\n",
              "      <td>0</td>\n",
              "      <td>0</td>\n",
              "      <td>0</td>\n",
              "      <td>0</td>\n",
              "      <td>5.0</td>\n",
              "      <td>2.0</td>\n",
              "      <td>5.0</td>\n",
              "      <td>2.0</td>\n",
              "      <td>1.0</td>\n",
              "      <td>0</td>\n",
              "    </tr>\n",
              "    <tr>\n",
              "      <th>449</th>\n",
              "      <td>12.0</td>\n",
              "      <td>3.0</td>\n",
              "      <td>1.0</td>\n",
              "      <td>1.0</td>\n",
              "      <td>51.0</td>\n",
              "      <td>227.43</td>\n",
              "      <td>0.10</td>\n",
              "      <td>10.42</td>\n",
              "      <td>21.83</td>\n",
              "      <td>2369.07</td>\n",
              "      <td>0.08</td>\n",
              "      <td>131.62</td>\n",
              "      <td>0</td>\n",
              "      <td>0</td>\n",
              "      <td>1</td>\n",
              "      <td>0</td>\n",
              "      <td>10.0</td>\n",
              "      <td>12.0</td>\n",
              "      <td>26.0</td>\n",
              "      <td>25.0</td>\n",
              "      <td>5.0</td>\n",
              "      <td>0</td>\n",
              "    </tr>\n",
              "  </tbody>\n",
              "</table>\n",
              "<p>947 rows × 22 columns</p>\n",
              "</div>"
            ],
            "text/plain": [
              "      loc  v(g)  ev(g)  iv(g)  ...  total_Op  total_Opnd  branchCount  meta_class\n",
              "0     1.1   1.4    1.4    1.4  ...       1.2         1.2          1.4           0\n",
              "1     1.0   1.0    1.0    1.0  ...       1.0         1.0          1.0           0\n",
              "2    24.0   5.0    1.0    3.0  ...      44.0        19.0          9.0           0\n",
              "3    20.0   4.0    4.0    2.0  ...      31.0        16.0          7.0           0\n",
              "4    24.0   6.0    6.0    2.0  ...      46.0        26.0         11.0           0\n",
              "..    ...   ...    ...    ...  ...       ...         ...          ...         ...\n",
              "445   9.0   3.0    1.0    1.0  ...      23.0        18.0          5.0           0\n",
              "446  11.0   3.0    1.0    1.0  ...      27.0        22.0          5.0           0\n",
              "447   4.0   1.0    1.0    1.0  ...       7.0         6.0          1.0           0\n",
              "448   3.0   1.0    1.0    1.0  ...       5.0         2.0          1.0           0\n",
              "449  12.0   3.0    1.0    1.0  ...      26.0        25.0          5.0           0\n",
              "\n",
              "[947 rows x 22 columns]"
            ]
          },
          "metadata": {
            "tags": []
          },
          "execution_count": 143
        }
      ]
    },
    {
      "cell_type": "code",
      "metadata": {
        "colab": {
          "base_uri": "https://localhost:8080/"
        },
        "id": "wR4ebq5bkt7g",
        "outputId": "7921e689-a61d-4707-9ede-3d85a73a771d"
      },
      "source": [
        "import warnings\n",
        "warnings.filterwarnings(\"ignore\") \n",
        "\n",
        "knn_acc = []\n",
        "nb_acc  = []\n",
        "nbk_acc = []\n",
        "\n",
        "X, Y = normalizacoes(data, \"defects\")\n",
        "\n",
        "knn = KNeighborsClassifier(n_neighbors=1)\n",
        "scores_knn = cross_val_score(knn, X, Y, cv=10, scoring='accuracy')\n",
        "knn_acc.append(scores_knn.mean())\n",
        "\n",
        "print(\"1NN acc:\",knn_acc[0])\n",
        "\n",
        "nb = GaussianNB()\n",
        "scores_nb = cross_val_score(nb, X, Y, cv=10, scoring='accuracy')\n",
        "nb_acc.append(scores_nb.mean())\n",
        "\n",
        "print(\"NB sem KMeans acc:\",nb_acc[0])\n",
        "\n",
        "X, Y = normalizacoes(df_res, \"meta_class\")    \n",
        "nbm = GaussianNB()\n",
        "scores_nbm = cross_val_score(nbm, X, Y, cv=10, scoring='accuracy')\n",
        "nbk_acc.append(scores_nbm.mean())\n",
        "\n",
        "print(\"NB com KMeans acc:\",nbk_acc[0])"
      ],
      "execution_count": 144,
      "outputs": [
        {
          "output_type": "stream",
          "text": [
            "1NN acc: 0.861591836734694\n",
            "NB sem KMeans acc: 0.8455102040816327\n",
            "NB com KMeans acc: 0.9188241881298993\n"
          ],
          "name": "stdout"
        }
      ]
    },
    {
      "cell_type": "code",
      "metadata": {
        "colab": {
          "base_uri": "https://localhost:8080/",
          "height": 350
        },
        "id": "IbNlXGqStNeJ",
        "outputId": "a85f9c66-c6e9-4124-bb9a-8d4b8b5a8572"
      },
      "source": [
        "fig, ax = plt.subplots(figsize = (5, 5))\n",
        "ax.bar(\"1NN\", knn_acc[0]  , color = 'c')\n",
        "ax.bar(\"NB sem KMeans\", nb_acc[0], color = 'c')\n",
        "ax.bar(\"NB com KMeans\", nbk_acc[0], color = 'k')\n",
        "ax.set(xlabel = 'Algoritmo'\n",
        "       , ylabel = 'Acurácia'\n",
        "       , title = 'Algoritmo x Acurácia')\n",
        "\n",
        "plt.show()"
      ],
      "execution_count": 145,
      "outputs": [
        {
          "output_type": "display_data",
          "data": {
            "image/png": "[encoded data removed]",
            "text/plain": [
              "<Figure size 360x360 with 1 Axes>"
            ]
          },
          "metadata": {
            "tags": [],
            "needs_background": "light"
          }
        }
      ]
    },
    {
      "cell_type": "code",
      "metadata": {
        "id": "dkGNOi77y9e6",
        "outputId": "e93a534a-d7df-4ca7-daec-df8a73446afb",
        "colab": {
          "base_uri": "https://localhost:8080/"
        }
      },
      "source": [
        "#mais métricas para o 1NN\n",
        "\n",
        "X, Y = normalizacoes(data, \"defects\")\n",
        "X_train, X_test, y_train, y_test = train_test_split(X, Y,random_state=1)\n",
        "\n",
        "knn = KNeighborsClassifier(n_neighbors=1)\n",
        "knn.fit(X_train,y_train)\n",
        "knn_pred = knn.predict(X_test)\n",
        "tn, fp, fn, tp = confusion_matrix(y_test, knn_pred).ravel()\n",
        "print(f'TN: {tn}, FP: {fp} , FN:{fn}, TP: {tp}')\n",
        "print()\n",
        "print(classification_report(y_test, knn_pred,zero_division=1))"
      ],
      "execution_count": 146,
      "outputs": [
        {
          "output_type": "stream",
          "text": [
            "TN: 102, FP: 7 , FN:11, TP: 5\n",
            "\n",
            "              precision    recall  f1-score   support\n",
            "\n",
            "           0       0.90      0.94      0.92       109\n",
            "           1       0.42      0.31      0.36        16\n",
            "\n",
            "    accuracy                           0.86       125\n",
            "   macro avg       0.66      0.62      0.64       125\n",
            "weighted avg       0.84      0.86      0.85       125\n",
            "\n"
          ],
          "name": "stdout"
        }
      ]
    },
    {
      "cell_type": "code",
      "metadata": {
        "id": "7QKUMGCf1KIU",
        "outputId": "69df66f4-161b-4650-e905-c6af38224c07",
        "colab": {
          "base_uri": "https://localhost:8080/"
        }
      },
      "source": [
        "#mais métricas para o GaussianNB sem KMeans\n",
        "\n",
        "X, Y = normalizacoes(data, \"defects\")\n",
        "X_train, X_test, y_train, y_test = train_test_split(X, Y,random_state=1)\n",
        "\n",
        "gnb = GaussianNB()\n",
        "gnb.fit(X_train,y_train)\n",
        "gnb_pred = gnb.predict(X_test)\n",
        "tn, fp, fn, tp = confusion_matrix(y_test, gnb_pred).ravel()\n",
        "print(f'TN: {tn}, FP: {fp} , FN:{fn}, TP: {tp}')\n",
        "print()\n",
        "print(classification_report(y_test, gnb_pred,zero_division=1))"
      ],
      "execution_count": 147,
      "outputs": [
        {
          "output_type": "stream",
          "text": [
            "TN: 97, FP: 12 , FN:12, TP: 4\n",
            "\n",
            "              precision    recall  f1-score   support\n",
            "\n",
            "           0       0.89      0.89      0.89       109\n",
            "           1       0.25      0.25      0.25        16\n",
            "\n",
            "    accuracy                           0.81       125\n",
            "   macro avg       0.57      0.57      0.57       125\n",
            "weighted avg       0.81      0.81      0.81       125\n",
            "\n"
          ],
          "name": "stdout"
        }
      ]
    },
    {
      "cell_type": "code",
      "metadata": {
        "id": "BgtOAoxF1qU3",
        "outputId": "52f52879-c4ee-45af-9c5d-5a6c4d81fedf",
        "colab": {
          "base_uri": "https://localhost:8080/"
        }
      },
      "source": [
        "#mais métricas para o GaussianNB com KMeans\n",
        "\n",
        "X, Y = normalizacoes(df_res, \"meta_class\")\n",
        "X_train, X_test, y_train, y_test = train_test_split(X, Y,random_state=1)\n",
        "\n",
        "gnb_mod = GaussianNB()\n",
        "gnb_mod.fit(X_train,y_train)\n",
        "gnb_mod_pred = gnb_mod.predict(X_test)\n",
        "\n",
        "print(classification_report(y_test, gnb_mod_pred,zero_division=1))"
      ],
      "execution_count": 148,
      "outputs": [
        {
          "output_type": "stream",
          "text": [
            "              precision    recall  f1-score   support\n",
            "\n",
            "           0       1.00      0.93      0.96       228\n",
            "           1       1.00      0.50      0.67         2\n",
            "           2       0.29      1.00      0.45         7\n",
            "           3       0.00      1.00      0.00         0\n",
            "\n",
            "    accuracy                           0.92       237\n",
            "   macro avg       0.57      0.86      0.52       237\n",
            "weighted avg       0.98      0.92      0.94       237\n",
            "\n"
          ],
          "name": "stdout"
        }
      ]
    },
    {
      "cell_type": "markdown",
      "metadata": {
        "id": "k9xK3vHd6IiS"
      },
      "source": [
        "# Análise do KC1"
      ]
    },
    {
      "cell_type": "code",
      "metadata": {
        "colab": {
          "base_uri": "https://localhost:8080/",
          "height": 204
        },
        "id": "AIHVj0IE6IiS",
        "outputId": "4319e2dc-9372-4ca5-e7a8-2a34acdedab4"
      },
      "source": [
        "data = pd.read_csv(\"https://raw.githubusercontent.com/renatojmf/Machine-Learning/main/kc1Data.csv\",encoding = \"ISO-8859-1\")\n",
        "data[\"defects\"] = data[\"defects\"].astype(int)\n",
        "data.head()"
      ],
      "execution_count": 149,
      "outputs": [
        {
          "output_type": "execute_result",
          "data": {
            "text/html": [
              "<div>\n",
              "<style scoped>\n",
              "    .dataframe tbody tr th:only-of-type {\n",
              "        vertical-align: middle;\n",
              "    }\n",
              "\n",
              "    .dataframe tbody tr th {\n",
              "        vertical-align: top;\n",
              "    }\n",
              "\n",
              "    .dataframe thead th {\n",
              "        text-align: right;\n",
              "    }\n",
              "</style>\n",
              "<table border=\"1\" class=\"dataframe\">\n",
              "  <thead>\n",
              "    <tr style=\"text-align: right;\">\n",
              "      <th></th>\n",
              "      <th>loc</th>\n",
              "      <th>v(g)</th>\n",
              "      <th>ev(g)</th>\n",
              "      <th>iv(g)</th>\n",
              "      <th>n</th>\n",
              "      <th>v</th>\n",
              "      <th>l</th>\n",
              "      <th>d</th>\n",
              "      <th>i</th>\n",
              "      <th>e</th>\n",
              "      <th>b</th>\n",
              "      <th>t</th>\n",
              "      <th>lOCode</th>\n",
              "      <th>lOComment</th>\n",
              "      <th>lOBlank</th>\n",
              "      <th>locCodeAndComment</th>\n",
              "      <th>uniq_Op</th>\n",
              "      <th>uniq_Opnd</th>\n",
              "      <th>total_Op</th>\n",
              "      <th>total_Opnd</th>\n",
              "      <th>branchCount</th>\n",
              "      <th>defects</th>\n",
              "    </tr>\n",
              "  </thead>\n",
              "  <tbody>\n",
              "    <tr>\n",
              "      <th>0</th>\n",
              "      <td>1.1</td>\n",
              "      <td>1.4</td>\n",
              "      <td>1.4</td>\n",
              "      <td>1.4</td>\n",
              "      <td>1.3</td>\n",
              "      <td>1.30</td>\n",
              "      <td>1.30</td>\n",
              "      <td>1.30</td>\n",
              "      <td>1.30</td>\n",
              "      <td>1.30</td>\n",
              "      <td>1.30</td>\n",
              "      <td>1.30</td>\n",
              "      <td>2</td>\n",
              "      <td>2</td>\n",
              "      <td>2</td>\n",
              "      <td>2</td>\n",
              "      <td>1.2</td>\n",
              "      <td>1.2</td>\n",
              "      <td>1.2</td>\n",
              "      <td>1.2</td>\n",
              "      <td>1.4</td>\n",
              "      <td>0</td>\n",
              "    </tr>\n",
              "    <tr>\n",
              "      <th>1</th>\n",
              "      <td>1.0</td>\n",
              "      <td>1.0</td>\n",
              "      <td>1.0</td>\n",
              "      <td>1.0</td>\n",
              "      <td>1.0</td>\n",
              "      <td>1.00</td>\n",
              "      <td>1.00</td>\n",
              "      <td>1.00</td>\n",
              "      <td>1.00</td>\n",
              "      <td>1.00</td>\n",
              "      <td>1.00</td>\n",
              "      <td>1.00</td>\n",
              "      <td>1</td>\n",
              "      <td>1</td>\n",
              "      <td>1</td>\n",
              "      <td>1</td>\n",
              "      <td>1.0</td>\n",
              "      <td>1.0</td>\n",
              "      <td>1.0</td>\n",
              "      <td>1.0</td>\n",
              "      <td>1.0</td>\n",
              "      <td>1</td>\n",
              "    </tr>\n",
              "    <tr>\n",
              "      <th>2</th>\n",
              "      <td>83.0</td>\n",
              "      <td>11.0</td>\n",
              "      <td>1.0</td>\n",
              "      <td>11.0</td>\n",
              "      <td>171.0</td>\n",
              "      <td>927.89</td>\n",
              "      <td>0.04</td>\n",
              "      <td>23.04</td>\n",
              "      <td>40.27</td>\n",
              "      <td>21378.61</td>\n",
              "      <td>0.31</td>\n",
              "      <td>1187.70</td>\n",
              "      <td>65</td>\n",
              "      <td>10</td>\n",
              "      <td>6</td>\n",
              "      <td>0</td>\n",
              "      <td>18.0</td>\n",
              "      <td>25.0</td>\n",
              "      <td>107.0</td>\n",
              "      <td>64.0</td>\n",
              "      <td>21.0</td>\n",
              "      <td>1</td>\n",
              "    </tr>\n",
              "    <tr>\n",
              "      <th>3</th>\n",
              "      <td>46.0</td>\n",
              "      <td>8.0</td>\n",
              "      <td>6.0</td>\n",
              "      <td>8.0</td>\n",
              "      <td>141.0</td>\n",
              "      <td>769.78</td>\n",
              "      <td>0.07</td>\n",
              "      <td>14.86</td>\n",
              "      <td>51.81</td>\n",
              "      <td>11436.73</td>\n",
              "      <td>0.26</td>\n",
              "      <td>635.37</td>\n",
              "      <td>37</td>\n",
              "      <td>2</td>\n",
              "      <td>5</td>\n",
              "      <td>0</td>\n",
              "      <td>16.0</td>\n",
              "      <td>28.0</td>\n",
              "      <td>89.0</td>\n",
              "      <td>52.0</td>\n",
              "      <td>15.0</td>\n",
              "      <td>1</td>\n",
              "    </tr>\n",
              "    <tr>\n",
              "      <th>4</th>\n",
              "      <td>25.0</td>\n",
              "      <td>3.0</td>\n",
              "      <td>1.0</td>\n",
              "      <td>3.0</td>\n",
              "      <td>58.0</td>\n",
              "      <td>254.75</td>\n",
              "      <td>0.11</td>\n",
              "      <td>9.35</td>\n",
              "      <td>27.25</td>\n",
              "      <td>2381.95</td>\n",
              "      <td>0.08</td>\n",
              "      <td>132.33</td>\n",
              "      <td>21</td>\n",
              "      <td>0</td>\n",
              "      <td>2</td>\n",
              "      <td>0</td>\n",
              "      <td>11.0</td>\n",
              "      <td>10.0</td>\n",
              "      <td>41.0</td>\n",
              "      <td>17.0</td>\n",
              "      <td>5.0</td>\n",
              "      <td>1</td>\n",
              "    </tr>\n",
              "  </tbody>\n",
              "</table>\n",
              "</div>"
            ],
            "text/plain": [
              "    loc  v(g)  ev(g)  iv(g)  ...  total_Op  total_Opnd  branchCount  defects\n",
              "0   1.1   1.4    1.4    1.4  ...       1.2         1.2          1.4        0\n",
              "1   1.0   1.0    1.0    1.0  ...       1.0         1.0          1.0        1\n",
              "2  83.0  11.0    1.0   11.0  ...     107.0        64.0         21.0        1\n",
              "3  46.0   8.0    6.0    8.0  ...      89.0        52.0         15.0        1\n",
              "4  25.0   3.0    1.0    3.0  ...      41.0        17.0          5.0        1\n",
              "\n",
              "[5 rows x 22 columns]"
            ]
          },
          "metadata": {
            "tags": []
          },
          "execution_count": 149
        }
      ]
    },
    {
      "cell_type": "code",
      "metadata": {
        "id": "dtnetpoT6Iic"
      },
      "source": [
        "#divisão entre dados de treinamento e testes\n",
        "X = data.drop(['defects'], axis=1)\n",
        "y = data['defects']\n",
        "X_train, X_test, y_train, y_test = train_test_split(X, y,random_state=1)"
      ],
      "execution_count": 150,
      "outputs": []
    },
    {
      "cell_type": "code",
      "metadata": {
        "colab": {
          "base_uri": "https://localhost:8080/"
        },
        "id": "MQyrw2y66Iic",
        "outputId": "20571101-0d3c-448d-9ffc-01b7a769234e"
      },
      "source": [
        "k_range = [2,3,4,5,6]\n",
        "k_scores = []\n",
        "\n",
        "for k in k_range:\n",
        "  kmeans = KMeans(n_clusters=k, random_state=0).fit(X,y)\n",
        "  scores = cross_val_score(kmeans, X, y, cv=10, scoring='accuracy')\n",
        "  k_scores.append(scores.mean())\n",
        "\n",
        "print(k_scores)"
      ],
      "execution_count": 151,
      "outputs": [
        {
          "output_type": "stream",
          "text": [
            "[0.8516587677725118, 0.8398104265402843, 0.6440735725569848, 0.7819792371925073, 0.5194177386594448]\n"
          ],
          "name": "stdout"
        }
      ]
    },
    {
      "cell_type": "code",
      "metadata": {
        "colab": {
          "base_uri": "https://localhost:8080/",
          "height": 296
        },
        "id": "lJVsZPZS6Iic",
        "outputId": "2d2f6d27-68cd-4bb1-f895-85aeb4f5d635"
      },
      "source": [
        "# plotando o valor de K versus a acurácia no cross-validation\n",
        "plt.plot(k_range, k_scores)\n",
        "plt.xlabel('Value of K for KMeans')\n",
        "plt.ylabel('Cross-Validated Accuracy')"
      ],
      "execution_count": 152,
      "outputs": [
        {
          "output_type": "execute_result",
          "data": {
            "text/plain": [
              "Text(0, 0.5, 'Cross-Validated Accuracy')"
            ]
          },
          "metadata": {
            "tags": []
          },
          "execution_count": 152
        },
        {
          "output_type": "display_data",
          "data": {
            "image/png": "[encoded data removed]",
            "text/plain": [
              "<Figure size 432x288 with 1 Axes>"
            ]
          },
          "metadata": {
            "tags": [],
            "needs_background": "light"
          }
        }
      ]
    },
    {
      "cell_type": "code",
      "metadata": {
        "id": "anXS5ihv6Iid"
      },
      "source": [
        "#gerando o subconjunto para defeitos e sem defeitos\n",
        "fraud = data.loc[data['defects'] == 1]\n",
        "fraud =  data.drop(columns='defects')\n",
        "\n",
        "non_fraud = data.loc[data['defects']== 0]\n",
        "non_fraud = non_fraud.drop(columns='defects')"
      ],
      "execution_count": 153,
      "outputs": []
    },
    {
      "cell_type": "code",
      "metadata": {
        "id": "CUlyIjwp6Iid"
      },
      "source": [
        "#gerando as metaclasses para o agrupamento de defeitos\n",
        "kmeans = KMeans(n_clusters=3, random_state=0)\n",
        "predict_true = kmeans.fit_predict(non_fraud)\n",
        "non_fraud['meta_class'] = predict_true"
      ],
      "execution_count": 154,
      "outputs": []
    },
    {
      "cell_type": "code",
      "metadata": {
        "id": "Ly019tAJ6Iie"
      },
      "source": [
        "#gerando as metaclasses para o agrupamento sem defeitos\n",
        "kmeans = KMeans(n_clusters=2, random_state=0)\n",
        "predict_false = kmeans.fit_predict(fraud)\n",
        "fraud['meta_class'] = predict_false"
      ],
      "execution_count": 155,
      "outputs": []
    },
    {
      "cell_type": "code",
      "metadata": {
        "id": "Rf5ck5nM6Iie"
      },
      "source": [
        "#transformando os dados em string para melhor funcionamento dos classificadores\n",
        "fraud['meta_class'] = fraud['meta_class'].astype(str)\n",
        "non_fraud['meta_class'] = non_fraud['meta_class'].astype(str)"
      ],
      "execution_count": 156,
      "outputs": []
    },
    {
      "cell_type": "code",
      "metadata": {
        "id": "b3zhjDcW6Iie",
        "colab": {
          "base_uri": "https://localhost:8080/"
        },
        "outputId": "ac74c26d-be8f-409b-9bed-9ee0da6ca91f"
      },
      "source": [
        "#concatenando os 2 datasets com as novas meta classes\n",
        "df_res = pd.concat([fraud, non_fraud])\n",
        "df_res['meta_class'].unique()"
      ],
      "execution_count": 157,
      "outputs": [
        {
          "output_type": "execute_result",
          "data": {
            "text/plain": [
              "array(['0', '1', '2'], dtype=object)"
            ]
          },
          "metadata": {
            "tags": []
          },
          "execution_count": 157
        }
      ]
    },
    {
      "cell_type": "code",
      "metadata": {
        "colab": {
          "base_uri": "https://localhost:8080/",
          "height": 419
        },
        "id": "t4LzR17N6Iif",
        "outputId": "580723c3-39d8-4a7f-ae5a-32d1009dc3c0"
      },
      "source": [
        "df_res"
      ],
      "execution_count": 158,
      "outputs": [
        {
          "output_type": "execute_result",
          "data": {
            "text/html": [
              "<div>\n",
              "<style scoped>\n",
              "    .dataframe tbody tr th:only-of-type {\n",
              "        vertical-align: middle;\n",
              "    }\n",
              "\n",
              "    .dataframe tbody tr th {\n",
              "        vertical-align: top;\n",
              "    }\n",
              "\n",
              "    .dataframe thead th {\n",
              "        text-align: right;\n",
              "    }\n",
              "</style>\n",
              "<table border=\"1\" class=\"dataframe\">\n",
              "  <thead>\n",
              "    <tr style=\"text-align: right;\">\n",
              "      <th></th>\n",
              "      <th>loc</th>\n",
              "      <th>v(g)</th>\n",
              "      <th>ev(g)</th>\n",
              "      <th>iv(g)</th>\n",
              "      <th>n</th>\n",
              "      <th>v</th>\n",
              "      <th>l</th>\n",
              "      <th>d</th>\n",
              "      <th>i</th>\n",
              "      <th>e</th>\n",
              "      <th>b</th>\n",
              "      <th>t</th>\n",
              "      <th>lOCode</th>\n",
              "      <th>lOComment</th>\n",
              "      <th>lOBlank</th>\n",
              "      <th>locCodeAndComment</th>\n",
              "      <th>uniq_Op</th>\n",
              "      <th>uniq_Opnd</th>\n",
              "      <th>total_Op</th>\n",
              "      <th>total_Opnd</th>\n",
              "      <th>branchCount</th>\n",
              "      <th>meta_class</th>\n",
              "    </tr>\n",
              "  </thead>\n",
              "  <tbody>\n",
              "    <tr>\n",
              "      <th>0</th>\n",
              "      <td>1.1</td>\n",
              "      <td>1.4</td>\n",
              "      <td>1.4</td>\n",
              "      <td>1.4</td>\n",
              "      <td>1.3</td>\n",
              "      <td>1.30</td>\n",
              "      <td>1.30</td>\n",
              "      <td>1.30</td>\n",
              "      <td>1.30</td>\n",
              "      <td>1.30</td>\n",
              "      <td>1.30</td>\n",
              "      <td>1.30</td>\n",
              "      <td>2</td>\n",
              "      <td>2</td>\n",
              "      <td>2</td>\n",
              "      <td>2</td>\n",
              "      <td>1.2</td>\n",
              "      <td>1.2</td>\n",
              "      <td>1.2</td>\n",
              "      <td>1.2</td>\n",
              "      <td>1.4</td>\n",
              "      <td>0</td>\n",
              "    </tr>\n",
              "    <tr>\n",
              "      <th>1</th>\n",
              "      <td>1.0</td>\n",
              "      <td>1.0</td>\n",
              "      <td>1.0</td>\n",
              "      <td>1.0</td>\n",
              "      <td>1.0</td>\n",
              "      <td>1.00</td>\n",
              "      <td>1.00</td>\n",
              "      <td>1.00</td>\n",
              "      <td>1.00</td>\n",
              "      <td>1.00</td>\n",
              "      <td>1.00</td>\n",
              "      <td>1.00</td>\n",
              "      <td>1</td>\n",
              "      <td>1</td>\n",
              "      <td>1</td>\n",
              "      <td>1</td>\n",
              "      <td>1.0</td>\n",
              "      <td>1.0</td>\n",
              "      <td>1.0</td>\n",
              "      <td>1.0</td>\n",
              "      <td>1.0</td>\n",
              "      <td>0</td>\n",
              "    </tr>\n",
              "    <tr>\n",
              "      <th>2</th>\n",
              "      <td>83.0</td>\n",
              "      <td>11.0</td>\n",
              "      <td>1.0</td>\n",
              "      <td>11.0</td>\n",
              "      <td>171.0</td>\n",
              "      <td>927.89</td>\n",
              "      <td>0.04</td>\n",
              "      <td>23.04</td>\n",
              "      <td>40.27</td>\n",
              "      <td>21378.61</td>\n",
              "      <td>0.31</td>\n",
              "      <td>1187.70</td>\n",
              "      <td>65</td>\n",
              "      <td>10</td>\n",
              "      <td>6</td>\n",
              "      <td>0</td>\n",
              "      <td>18.0</td>\n",
              "      <td>25.0</td>\n",
              "      <td>107.0</td>\n",
              "      <td>64.0</td>\n",
              "      <td>21.0</td>\n",
              "      <td>0</td>\n",
              "    </tr>\n",
              "    <tr>\n",
              "      <th>3</th>\n",
              "      <td>46.0</td>\n",
              "      <td>8.0</td>\n",
              "      <td>6.0</td>\n",
              "      <td>8.0</td>\n",
              "      <td>141.0</td>\n",
              "      <td>769.78</td>\n",
              "      <td>0.07</td>\n",
              "      <td>14.86</td>\n",
              "      <td>51.81</td>\n",
              "      <td>11436.73</td>\n",
              "      <td>0.26</td>\n",
              "      <td>635.37</td>\n",
              "      <td>37</td>\n",
              "      <td>2</td>\n",
              "      <td>5</td>\n",
              "      <td>0</td>\n",
              "      <td>16.0</td>\n",
              "      <td>28.0</td>\n",
              "      <td>89.0</td>\n",
              "      <td>52.0</td>\n",
              "      <td>15.0</td>\n",
              "      <td>0</td>\n",
              "    </tr>\n",
              "    <tr>\n",
              "      <th>4</th>\n",
              "      <td>25.0</td>\n",
              "      <td>3.0</td>\n",
              "      <td>1.0</td>\n",
              "      <td>3.0</td>\n",
              "      <td>58.0</td>\n",
              "      <td>254.75</td>\n",
              "      <td>0.11</td>\n",
              "      <td>9.35</td>\n",
              "      <td>27.25</td>\n",
              "      <td>2381.95</td>\n",
              "      <td>0.08</td>\n",
              "      <td>132.33</td>\n",
              "      <td>21</td>\n",
              "      <td>0</td>\n",
              "      <td>2</td>\n",
              "      <td>0</td>\n",
              "      <td>11.0</td>\n",
              "      <td>10.0</td>\n",
              "      <td>41.0</td>\n",
              "      <td>17.0</td>\n",
              "      <td>5.0</td>\n",
              "      <td>0</td>\n",
              "    </tr>\n",
              "    <tr>\n",
              "      <th>...</th>\n",
              "      <td>...</td>\n",
              "      <td>...</td>\n",
              "      <td>...</td>\n",
              "      <td>...</td>\n",
              "      <td>...</td>\n",
              "      <td>...</td>\n",
              "      <td>...</td>\n",
              "      <td>...</td>\n",
              "      <td>...</td>\n",
              "      <td>...</td>\n",
              "      <td>...</td>\n",
              "      <td>...</td>\n",
              "      <td>...</td>\n",
              "      <td>...</td>\n",
              "      <td>...</td>\n",
              "      <td>...</td>\n",
              "      <td>...</td>\n",
              "      <td>...</td>\n",
              "      <td>...</td>\n",
              "      <td>...</td>\n",
              "      <td>...</td>\n",
              "      <td>...</td>\n",
              "    </tr>\n",
              "    <tr>\n",
              "      <th>2104</th>\n",
              "      <td>19.0</td>\n",
              "      <td>2.0</td>\n",
              "      <td>1.0</td>\n",
              "      <td>2.0</td>\n",
              "      <td>40.0</td>\n",
              "      <td>175.69</td>\n",
              "      <td>0.15</td>\n",
              "      <td>6.82</td>\n",
              "      <td>25.77</td>\n",
              "      <td>1197.90</td>\n",
              "      <td>0.06</td>\n",
              "      <td>66.55</td>\n",
              "      <td>12</td>\n",
              "      <td>1</td>\n",
              "      <td>2</td>\n",
              "      <td>0</td>\n",
              "      <td>10.0</td>\n",
              "      <td>11.0</td>\n",
              "      <td>25.0</td>\n",
              "      <td>15.0</td>\n",
              "      <td>3.0</td>\n",
              "      <td>0</td>\n",
              "    </tr>\n",
              "    <tr>\n",
              "      <th>2105</th>\n",
              "      <td>23.0</td>\n",
              "      <td>3.0</td>\n",
              "      <td>3.0</td>\n",
              "      <td>3.0</td>\n",
              "      <td>60.0</td>\n",
              "      <td>278.63</td>\n",
              "      <td>0.10</td>\n",
              "      <td>9.69</td>\n",
              "      <td>28.75</td>\n",
              "      <td>2700.58</td>\n",
              "      <td>0.09</td>\n",
              "      <td>150.03</td>\n",
              "      <td>18</td>\n",
              "      <td>1</td>\n",
              "      <td>2</td>\n",
              "      <td>0</td>\n",
              "      <td>12.0</td>\n",
              "      <td>13.0</td>\n",
              "      <td>39.0</td>\n",
              "      <td>21.0</td>\n",
              "      <td>5.0</td>\n",
              "      <td>0</td>\n",
              "    </tr>\n",
              "    <tr>\n",
              "      <th>2106</th>\n",
              "      <td>2.0</td>\n",
              "      <td>1.0</td>\n",
              "      <td>1.0</td>\n",
              "      <td>1.0</td>\n",
              "      <td>4.0</td>\n",
              "      <td>8.00</td>\n",
              "      <td>0.67</td>\n",
              "      <td>1.50</td>\n",
              "      <td>5.33</td>\n",
              "      <td>12.00</td>\n",
              "      <td>0.00</td>\n",
              "      <td>0.67</td>\n",
              "      <td>0</td>\n",
              "      <td>0</td>\n",
              "      <td>0</td>\n",
              "      <td>0</td>\n",
              "      <td>3.0</td>\n",
              "      <td>1.0</td>\n",
              "      <td>3.0</td>\n",
              "      <td>1.0</td>\n",
              "      <td>1.0</td>\n",
              "      <td>0</td>\n",
              "    </tr>\n",
              "    <tr>\n",
              "      <th>2107</th>\n",
              "      <td>13.0</td>\n",
              "      <td>1.0</td>\n",
              "      <td>1.0</td>\n",
              "      <td>1.0</td>\n",
              "      <td>17.0</td>\n",
              "      <td>60.94</td>\n",
              "      <td>0.25</td>\n",
              "      <td>4.00</td>\n",
              "      <td>15.24</td>\n",
              "      <td>243.78</td>\n",
              "      <td>0.02</td>\n",
              "      <td>13.54</td>\n",
              "      <td>6</td>\n",
              "      <td>0</td>\n",
              "      <td>5</td>\n",
              "      <td>0</td>\n",
              "      <td>6.0</td>\n",
              "      <td>6.0</td>\n",
              "      <td>9.0</td>\n",
              "      <td>8.0</td>\n",
              "      <td>1.0</td>\n",
              "      <td>0</td>\n",
              "    </tr>\n",
              "    <tr>\n",
              "      <th>2108</th>\n",
              "      <td>11.0</td>\n",
              "      <td>2.0</td>\n",
              "      <td>1.0</td>\n",
              "      <td>2.0</td>\n",
              "      <td>27.0</td>\n",
              "      <td>102.80</td>\n",
              "      <td>0.17</td>\n",
              "      <td>6.00</td>\n",
              "      <td>17.13</td>\n",
              "      <td>616.79</td>\n",
              "      <td>0.03</td>\n",
              "      <td>34.27</td>\n",
              "      <td>9</td>\n",
              "      <td>0</td>\n",
              "      <td>0</td>\n",
              "      <td>0</td>\n",
              "      <td>8.0</td>\n",
              "      <td>6.0</td>\n",
              "      <td>18.0</td>\n",
              "      <td>9.0</td>\n",
              "      <td>3.0</td>\n",
              "      <td>0</td>\n",
              "    </tr>\n",
              "  </tbody>\n",
              "</table>\n",
              "<p>3892 rows × 22 columns</p>\n",
              "</div>"
            ],
            "text/plain": [
              "       loc  v(g)  ev(g)  iv(g)  ...  total_Op  total_Opnd  branchCount  meta_class\n",
              "0      1.1   1.4    1.4    1.4  ...       1.2         1.2          1.4           0\n",
              "1      1.0   1.0    1.0    1.0  ...       1.0         1.0          1.0           0\n",
              "2     83.0  11.0    1.0   11.0  ...     107.0        64.0         21.0           0\n",
              "3     46.0   8.0    6.0    8.0  ...      89.0        52.0         15.0           0\n",
              "4     25.0   3.0    1.0    3.0  ...      41.0        17.0          5.0           0\n",
              "...    ...   ...    ...    ...  ...       ...         ...          ...         ...\n",
              "2104  19.0   2.0    1.0    2.0  ...      25.0        15.0          3.0           0\n",
              "2105  23.0   3.0    3.0    3.0  ...      39.0        21.0          5.0           0\n",
              "2106   2.0   1.0    1.0    1.0  ...       3.0         1.0          1.0           0\n",
              "2107  13.0   1.0    1.0    1.0  ...       9.0         8.0          1.0           0\n",
              "2108  11.0   2.0    1.0    2.0  ...      18.0         9.0          3.0           0\n",
              "\n",
              "[3892 rows x 22 columns]"
            ]
          },
          "metadata": {
            "tags": []
          },
          "execution_count": 158
        }
      ]
    },
    {
      "cell_type": "code",
      "metadata": {
        "colab": {
          "base_uri": "https://localhost:8080/"
        },
        "id": "7knzRy7z6Iif",
        "outputId": "15a15b70-fb1c-48be-bde7-258846423476"
      },
      "source": [
        "import warnings\n",
        "warnings.filterwarnings(\"ignore\") \n",
        "\n",
        "knn_acc = []\n",
        "nb_acc  = []\n",
        "nbk_acc = []\n",
        "\n",
        "X, Y = normalizacoes(data, \"defects\")\n",
        "\n",
        "knn = KNeighborsClassifier(n_neighbors=1)\n",
        "scores_knn = cross_val_score(knn, X, Y, cv=10, scoring='accuracy')\n",
        "knn_acc.append(scores_knn.mean())\n",
        "\n",
        "print(\"1NN acc:\",knn_acc[0])\n",
        "\n",
        "nb = GaussianNB()\n",
        "scores_nb = cross_val_score(nb, X, Y, cv=10, scoring='accuracy')\n",
        "nb_acc.append(scores_nb.mean())\n",
        "\n",
        "print(\"NB sem KMeans acc:\",nb_acc[0])\n",
        "\n",
        "X, Y = normalizacoes(df_res, \"meta_class\")    \n",
        "nbm = GaussianNB()\n",
        "scores_nbm = cross_val_score(nbm, X, Y, cv=10, scoring='accuracy')\n",
        "nbk_acc.append(scores_nbm.mean())\n",
        "\n",
        "print(\"NB com KMeans acc:\",nbk_acc[0])"
      ],
      "execution_count": 159,
      "outputs": [
        {
          "output_type": "stream",
          "text": [
            "1NN acc: 0.7691311216429699\n",
            "NB sem KMeans acc: 0.8227059354547505\n",
            "NB com KMeans acc: 0.9357906532199591\n"
          ],
          "name": "stdout"
        }
      ]
    },
    {
      "cell_type": "code",
      "metadata": {
        "colab": {
          "base_uri": "https://localhost:8080/",
          "height": 350
        },
        "id": "oFHR0X-T6Iig",
        "outputId": "959143db-5ce5-4393-a4b3-cc011a17c5ce"
      },
      "source": [
        "fig, ax = plt.subplots(figsize = (5, 5))\n",
        "ax.bar(\"1NN\", knn_acc[0]  , color = 'c')\n",
        "ax.bar(\"NB sem KMeans\", nb_acc[0], color = 'c')\n",
        "ax.bar(\"NB com KMeans\", nbk_acc[0], color = 'k')\n",
        "ax.set(xlabel = 'Algoritmo'\n",
        "       , ylabel = 'Acurácia'\n",
        "       , title = 'Algoritmo x Acurácia')\n",
        "\n",
        "plt.show()"
      ],
      "execution_count": 160,
      "outputs": [
        {
          "output_type": "display_data",
          "data": {
            "image/png": "[encoded data removed]",
            "text/plain": [
              "<Figure size 360x360 with 1 Axes>"
            ]
          },
          "metadata": {
            "tags": [],
            "needs_background": "light"
          }
        }
      ]
    },
    {
      "cell_type": "code",
      "metadata": {
        "id": "mngLSTng3X8K",
        "outputId": "742ef10c-3873-4465-d0d3-1c76517ce304",
        "colab": {
          "base_uri": "https://localhost:8080/"
        }
      },
      "source": [
        "#mais métricas para o 1NN\n",
        "\n",
        "X, Y = normalizacoes(data, \"defects\")\n",
        "X_train, X_test, y_train, y_test = train_test_split(X, Y,random_state=1)\n",
        "\n",
        "knn = KNeighborsClassifier(n_neighbors=1)\n",
        "knn.fit(X_train,y_train)\n",
        "knn_pred = knn.predict(X_test)\n",
        "tn, fp, fn, tp = confusion_matrix(y_test, knn_pred).ravel()\n",
        "print(f'TN: {tn}, FP: {fp} , FN:{fn}, TP: {tp}')\n",
        "print()\n",
        "print(classification_report(y_test, knn_pred,zero_division=1))"
      ],
      "execution_count": 161,
      "outputs": [
        {
          "output_type": "stream",
          "text": [
            "TN: 403, FP: 48 , FN:44, TP: 33\n",
            "\n",
            "              precision    recall  f1-score   support\n",
            "\n",
            "           0       0.90      0.89      0.90       451\n",
            "           1       0.41      0.43      0.42        77\n",
            "\n",
            "    accuracy                           0.83       528\n",
            "   macro avg       0.65      0.66      0.66       528\n",
            "weighted avg       0.83      0.83      0.83       528\n",
            "\n"
          ],
          "name": "stdout"
        }
      ]
    },
    {
      "cell_type": "code",
      "metadata": {
        "id": "JgZyMBjy3ilv",
        "outputId": "c9b86f4d-7123-471f-faff-ffc40577ae96",
        "colab": {
          "base_uri": "https://localhost:8080/"
        }
      },
      "source": [
        "#mais métricas para o GaussianNB sem KMeans\n",
        "\n",
        "X, Y = normalizacoes(data, \"defects\")\n",
        "X_train, X_test, y_train, y_test = train_test_split(X, Y,random_state=1)\n",
        "\n",
        "gnb = GaussianNB()\n",
        "gnb.fit(X_train,y_train)\n",
        "gnb_pred = gnb.predict(X_test)\n",
        "tn, fp, fn, tp = confusion_matrix(y_test, gnb_pred).ravel()\n",
        "print(f'TN: {tn}, FP: {fp} , FN:{fn}, TP: {tp}')\n",
        "print()\n",
        "print(classification_report(y_test, gnb_pred,zero_division=1))"
      ],
      "execution_count": 162,
      "outputs": [
        {
          "output_type": "stream",
          "text": [
            "TN: 405, FP: 46 , FN:45, TP: 32\n",
            "\n",
            "              precision    recall  f1-score   support\n",
            "\n",
            "           0       0.90      0.90      0.90       451\n",
            "           1       0.41      0.42      0.41        77\n",
            "\n",
            "    accuracy                           0.83       528\n",
            "   macro avg       0.66      0.66      0.66       528\n",
            "weighted avg       0.83      0.83      0.83       528\n",
            "\n"
          ],
          "name": "stdout"
        }
      ]
    },
    {
      "cell_type": "code",
      "metadata": {
        "id": "96Ric-nc3oUv",
        "outputId": "f2a025df-96b5-427a-d467-502e35879163",
        "colab": {
          "base_uri": "https://localhost:8080/"
        }
      },
      "source": [
        "#mais métricas para o GaussianNB com KMeans\n",
        "\n",
        "X, Y = normalizacoes(df_res, \"meta_class\")\n",
        "X_train, X_test, y_train, y_test = train_test_split(X, Y,random_state=1)\n",
        "\n",
        "gnb_mod = GaussianNB()\n",
        "gnb_mod.fit(X_train,y_train)\n",
        "gnb_mod_pred = gnb_mod.predict(X_test)\n",
        "\n",
        "print(classification_report(y_test, gnb_mod_pred,zero_division=1))"
      ],
      "execution_count": 163,
      "outputs": [
        {
          "output_type": "stream",
          "text": [
            "              precision    recall  f1-score   support\n",
            "\n",
            "           0       1.00      0.95      0.97       942\n",
            "           1       0.11      0.24      0.15        17\n",
            "           2       0.28      0.86      0.42        14\n",
            "\n",
            "    accuracy                           0.94       973\n",
            "   macro avg       0.46      0.68      0.52       973\n",
            "weighted avg       0.97      0.94      0.95       973\n",
            "\n"
          ],
          "name": "stdout"
        }
      ]
    }
  ]
}