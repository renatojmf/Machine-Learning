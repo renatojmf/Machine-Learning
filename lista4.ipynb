{
  "nbformat": 4,
  "nbformat_minor": 0,
  "metadata": {
    "colab": {
      "name": "lista4.ipynb",
      "provenance": []
    },
    "kernelspec": {
      "name": "python3",
      "display_name": "Python 3"
    },
    "language_info": {
      "name": "python"
    }
  },
  "cells": [
    {
      "cell_type": "code",
      "metadata": {
        "id": "m-WSliZ5eE9b"
      },
      "source": [
        "import pandas as pd # for data analytics\n",
        "import numpy as np # for numerical computation\n",
        "\n",
        "#models\n",
        "from sklearn.cluster import KMeans\n",
        "from sklearn.naive_bayes import GaussianNB\n",
        "from sklearn.neighbors import KNeighborsClassifier\n",
        "\n",
        "#analytics\n",
        "from sklearn.model_selection import train_test_split,cross_val_score\n",
        "from sklearn.metrics import precision_recall_fscore_support, classification_report,confusion_matrix\n",
        "from matplotlib import pyplot as plt"
      ],
      "execution_count": 279,
      "outputs": []
    },
    {
      "cell_type": "code",
      "metadata": {
        "colab": {
          "base_uri": "https://localhost:8080/",
          "height": 204
        },
        "id": "GJF008mwezS6",
        "outputId": "5b76daa8-3d55-47f7-b000-c49a955d3d8d"
      },
      "source": [
        "data = pd.read_csv(\"https://raw.githubusercontent.com/renatojmf/Machine-Learning/main/data.csv\",encoding = \"ISO-8859-1\")\n",
        "data[\"defects\"] = data[\"defects\"].astype(int)\n",
        "data.head()"
      ],
      "execution_count": 280,
      "outputs": [
        {
          "output_type": "execute_result",
          "data": {
            "text/html": [
              "<div>\n",
              "<style scoped>\n",
              "    .dataframe tbody tr th:only-of-type {\n",
              "        vertical-align: middle;\n",
              "    }\n",
              "\n",
              "    .dataframe tbody tr th {\n",
              "        vertical-align: top;\n",
              "    }\n",
              "\n",
              "    .dataframe thead th {\n",
              "        text-align: right;\n",
              "    }\n",
              "</style>\n",
              "<table border=\"1\" class=\"dataframe\">\n",
              "  <thead>\n",
              "    <tr style=\"text-align: right;\">\n",
              "      <th></th>\n",
              "      <th>loc</th>\n",
              "      <th>v(g)</th>\n",
              "      <th>ev(g)</th>\n",
              "      <th>iv(g)</th>\n",
              "      <th>n</th>\n",
              "      <th>v</th>\n",
              "      <th>l</th>\n",
              "      <th>d</th>\n",
              "      <th>i</th>\n",
              "      <th>e</th>\n",
              "      <th>b</th>\n",
              "      <th>t</th>\n",
              "      <th>lOCode</th>\n",
              "      <th>lOComment</th>\n",
              "      <th>lOBlank</th>\n",
              "      <th>locCodeAndComment</th>\n",
              "      <th>uniq_Op</th>\n",
              "      <th>uniq_Opnd</th>\n",
              "      <th>total_Op</th>\n",
              "      <th>total_Opnd</th>\n",
              "      <th>branchCount</th>\n",
              "      <th>defects</th>\n",
              "    </tr>\n",
              "  </thead>\n",
              "  <tbody>\n",
              "    <tr>\n",
              "      <th>0</th>\n",
              "      <td>1.1</td>\n",
              "      <td>1.4</td>\n",
              "      <td>1.4</td>\n",
              "      <td>1.4</td>\n",
              "      <td>1.3</td>\n",
              "      <td>1.30</td>\n",
              "      <td>1.30</td>\n",
              "      <td>1.30</td>\n",
              "      <td>1.30</td>\n",
              "      <td>1.30</td>\n",
              "      <td>1.30</td>\n",
              "      <td>1.30</td>\n",
              "      <td>2</td>\n",
              "      <td>2</td>\n",
              "      <td>2</td>\n",
              "      <td>2</td>\n",
              "      <td>1.2</td>\n",
              "      <td>1.2</td>\n",
              "      <td>1.2</td>\n",
              "      <td>1.2</td>\n",
              "      <td>1.4</td>\n",
              "      <td>0</td>\n",
              "    </tr>\n",
              "    <tr>\n",
              "      <th>1</th>\n",
              "      <td>1.0</td>\n",
              "      <td>1.0</td>\n",
              "      <td>1.0</td>\n",
              "      <td>1.0</td>\n",
              "      <td>1.0</td>\n",
              "      <td>1.00</td>\n",
              "      <td>1.00</td>\n",
              "      <td>1.00</td>\n",
              "      <td>1.00</td>\n",
              "      <td>1.00</td>\n",
              "      <td>1.00</td>\n",
              "      <td>1.00</td>\n",
              "      <td>1</td>\n",
              "      <td>1</td>\n",
              "      <td>1</td>\n",
              "      <td>1</td>\n",
              "      <td>1.0</td>\n",
              "      <td>1.0</td>\n",
              "      <td>1.0</td>\n",
              "      <td>1.0</td>\n",
              "      <td>1.0</td>\n",
              "      <td>1</td>\n",
              "    </tr>\n",
              "    <tr>\n",
              "      <th>2</th>\n",
              "      <td>24.0</td>\n",
              "      <td>5.0</td>\n",
              "      <td>1.0</td>\n",
              "      <td>3.0</td>\n",
              "      <td>63.0</td>\n",
              "      <td>309.13</td>\n",
              "      <td>0.11</td>\n",
              "      <td>9.50</td>\n",
              "      <td>32.54</td>\n",
              "      <td>2936.77</td>\n",
              "      <td>0.10</td>\n",
              "      <td>163.15</td>\n",
              "      <td>1</td>\n",
              "      <td>0</td>\n",
              "      <td>6</td>\n",
              "      <td>0</td>\n",
              "      <td>15.0</td>\n",
              "      <td>15.0</td>\n",
              "      <td>44.0</td>\n",
              "      <td>19.0</td>\n",
              "      <td>9.0</td>\n",
              "      <td>0</td>\n",
              "    </tr>\n",
              "    <tr>\n",
              "      <th>3</th>\n",
              "      <td>20.0</td>\n",
              "      <td>4.0</td>\n",
              "      <td>4.0</td>\n",
              "      <td>2.0</td>\n",
              "      <td>47.0</td>\n",
              "      <td>215.49</td>\n",
              "      <td>0.06</td>\n",
              "      <td>16.00</td>\n",
              "      <td>13.47</td>\n",
              "      <td>3447.89</td>\n",
              "      <td>0.07</td>\n",
              "      <td>191.55</td>\n",
              "      <td>0</td>\n",
              "      <td>0</td>\n",
              "      <td>3</td>\n",
              "      <td>0</td>\n",
              "      <td>16.0</td>\n",
              "      <td>8.0</td>\n",
              "      <td>31.0</td>\n",
              "      <td>16.0</td>\n",
              "      <td>7.0</td>\n",
              "      <td>0</td>\n",
              "    </tr>\n",
              "    <tr>\n",
              "      <th>4</th>\n",
              "      <td>24.0</td>\n",
              "      <td>6.0</td>\n",
              "      <td>6.0</td>\n",
              "      <td>2.0</td>\n",
              "      <td>72.0</td>\n",
              "      <td>346.13</td>\n",
              "      <td>0.06</td>\n",
              "      <td>17.33</td>\n",
              "      <td>19.97</td>\n",
              "      <td>5999.58</td>\n",
              "      <td>0.12</td>\n",
              "      <td>333.31</td>\n",
              "      <td>0</td>\n",
              "      <td>0</td>\n",
              "      <td>3</td>\n",
              "      <td>0</td>\n",
              "      <td>16.0</td>\n",
              "      <td>12.0</td>\n",
              "      <td>46.0</td>\n",
              "      <td>26.0</td>\n",
              "      <td>11.0</td>\n",
              "      <td>0</td>\n",
              "    </tr>\n",
              "  </tbody>\n",
              "</table>\n",
              "</div>"
            ],
            "text/plain": [
              "    loc  v(g)  ev(g)  iv(g)  ...  total_Op  total_Opnd  branchCount  defects\n",
              "0   1.1   1.4    1.4    1.4  ...       1.2         1.2          1.4        0\n",
              "1   1.0   1.0    1.0    1.0  ...       1.0         1.0          1.0        1\n",
              "2  24.0   5.0    1.0    3.0  ...      44.0        19.0          9.0        0\n",
              "3  20.0   4.0    4.0    2.0  ...      31.0        16.0          7.0        0\n",
              "4  24.0   6.0    6.0    2.0  ...      46.0        26.0         11.0        0\n",
              "\n",
              "[5 rows x 22 columns]"
            ]
          },
          "metadata": {
            "tags": []
          },
          "execution_count": 280
        }
      ]
    },
    {
      "cell_type": "code",
      "metadata": {
        "id": "DgUFh7Hle6XP"
      },
      "source": [
        "#divisão entre dados de treinamento e testes\n",
        "X = data.drop(['defects'], axis=1)\n",
        "y = data['defects']\n",
        "X_train, X_test, y_train, y_test = train_test_split(X, y,random_state=1)"
      ],
      "execution_count": 281,
      "outputs": []
    },
    {
      "cell_type": "code",
      "metadata": {
        "colab": {
          "base_uri": "https://localhost:8080/"
        },
        "id": "iZD4uPgJgVy4",
        "outputId": "925a72e3-46c4-4eca-adb5-b5ce9d1e666f"
      },
      "source": [
        "k_range = [2,3,4,5,6]\n",
        "k_scores = []\n",
        "\n",
        "for k in k_range:\n",
        "  kmeans = KMeans(n_clusters=k, random_state=0).fit(X,y)\n",
        "  scores = cross_val_score(kmeans, X, y, cv=10, scoring='accuracy')\n",
        "  k_scores.append(scores.mean())\n",
        "\n",
        "print(k_scores)"
      ],
      "execution_count": 282,
      "outputs": [
        {
          "output_type": "stream",
          "text": [
            "[0.8940408163265307, 0.6904489795918367, 0.722, 0.8181224489795916, 0.8021224489795917]\n"
          ],
          "name": "stdout"
        }
      ]
    },
    {
      "cell_type": "code",
      "metadata": {
        "colab": {
          "base_uri": "https://localhost:8080/",
          "height": 296
        },
        "id": "dlBh2EVJhr7E",
        "outputId": "0a605075-691e-4c38-b950-9a1c7dd66cba"
      },
      "source": [
        "# plotando o valor de K versus a acurácia no cross-validation\n",
        "plt.plot(k_range, k_scores)\n",
        "plt.xlabel('Value of K for KMeans')\n",
        "plt.ylabel('Cross-Validated Accuracy')"
      ],
      "execution_count": 283,
      "outputs": [
        {
          "output_type": "execute_result",
          "data": {
            "text/plain": [
              "Text(0, 0.5, 'Cross-Validated Accuracy')"
            ]
          },
          "metadata": {
            "tags": []
          },
          "execution_count": 283
        },
        {
          "output_type": "display_data",
          "data": {
            "image/png": "[encoded data removed]",
            "text/plain": [
              "<Figure size 432x288 with 1 Axes>"
            ]
          },
          "metadata": {
            "tags": [],
            "needs_background": "light"
          }
        }
      ]
    },
    {
      "cell_type": "code",
      "metadata": {
        "id": "7Yb6Ivx2iq7P"
      },
      "source": [
        "#gerando o subconjunto para defeitos e sem defeitos\n",
        "fraud = data.loc[data['defects'] == 1]\n",
        "fraud =  data.drop(columns='defects')\n",
        "\n",
        "non_fraud = data.loc[data['defects']== 0]\n",
        "non_fraud = non_fraud.drop(columns='defects')"
      ],
      "execution_count": 284,
      "outputs": []
    },
    {
      "cell_type": "code",
      "metadata": {
        "id": "Z13ctbMnjGdd"
      },
      "source": [
        "#gerando as metaclasses para o agrupamento de defeitos\n",
        "kmeans = KMeans(n_clusters=2, random_state=0)\n",
        "predict_true = kmeans.fit_predict(non_fraud)\n",
        "non_fraud['meta_class'] = predict_true"
      ],
      "execution_count": 285,
      "outputs": []
    },
    {
      "cell_type": "code",
      "metadata": {
        "id": "6KxJmCdajRzL"
      },
      "source": [
        "#gerando as metaclasses para o agrupamento sem defeitos\n",
        "kmeans = KMeans(n_clusters=2, random_state=0)\n",
        "predict_false = kmeans.fit_predict(fraud)\n",
        "fraud['meta_class'] = predict_false"
      ],
      "execution_count": 287,
      "outputs": []
    },
    {
      "cell_type": "code",
      "metadata": {
        "id": "RdXd-i8ijg5c"
      },
      "source": [
        "non_fraud['meta_class'] = \"f_\" + non_fraud['meta_class'].astype(str)\n",
        "fraud['meta_class'] = \"t_\" + fraud['meta_class'].astype(str)"
      ],
      "execution_count": 288,
      "outputs": []
    },
    {
      "cell_type": "code",
      "metadata": {
        "id": "rttxU9HDkatg",
        "outputId": "41931e12-0520-43d9-882a-49e8d0555ee8",
        "colab": {
          "base_uri": "https://localhost:8080/"
        }
      },
      "source": [
        "df_res = pd.concat([fraud, non_fraud])\n",
        "\n",
        "df_res = df_res.sample(frac=1, random_state=20)\n",
        "df_res = df_res.sample(frac=1, random_state=20)\n",
        "df_res['meta_class'].unique()"
      ],
      "execution_count": 289,
      "outputs": [
        {
          "output_type": "execute_result",
          "data": {
            "text/plain": [
              "array(['t_0', 'f_0', 'f_1', 't_1'], dtype=object)"
            ]
          },
          "metadata": {
            "tags": []
          },
          "execution_count": 289
        }
      ]
    },
    {
      "cell_type": "code",
      "metadata": {
        "id": "CbU1gfeilvgJ"
      },
      "source": [
        "#função para normalizar os valores no dataset \n",
        "def normalizacoes(df, column):\n",
        "  X = df.drop(columns=[column])\n",
        "  Y = df[column]\n",
        "\n",
        "  scaler = StandardScaler().fit_transform(X)\n",
        "  X = pd.DataFrame(scaler)\n",
        "  return X, Y"
      ],
      "execution_count": 290,
      "outputs": []
    },
    {
      "cell_type": "code",
      "metadata": {
        "id": "wR4ebq5bkt7g",
        "outputId": "2fb2d7a7-a1c3-4414-bba0-592aac51fa88",
        "colab": {
          "base_uri": "https://localhost:8080/"
        }
      },
      "source": [
        "import warnings\n",
        "warnings.filterwarnings(\"ignore\") \n",
        "\n",
        "knn_acc = []\n",
        "nb_acc  = []\n",
        "nbk_acc = []\n",
        "\n",
        "X, Y = normalizacoes(data, \"defects\")\n",
        "\n",
        "knn = KNeighborsClassifier(n_neighbors=1)\n",
        "scores_knn = cross_val_score(knn, X, Y, cv=10, scoring='accuracy')\n",
        "knn_acc.append(scores_knn.mean())\n",
        "\n",
        "print(\"1NN acc:\",knn_acc[0])\n",
        "\n",
        "nb_normal = GaussianNB()\n",
        "scores_nb = cross_val_score(nb_normal, X, Y, cv=10, scoring='accuracy')\n",
        "nb_acc.append(scores_nb.mean())\n",
        "\n",
        "print(\"NB sem KMeans acc:\",nb_acc[0])\n",
        "\n",
        "X, Y = normalizacoes(df_res, \"meta_class\")    \n",
        "nb_k = GaussianNB()\n",
        "scores_nbm = cross_val_score(nb_k, X, Y, cv=10, scoring='accuracy')\n",
        "nbk_acc.append(scores_nbm.mean())\n",
        "\n",
        "print(\"NB com KMeans acc:\",nbk_acc[0])"
      ],
      "execution_count": 291,
      "outputs": [
        {
          "output_type": "stream",
          "text": [
            "1NN acc: 0.861591836734694\n",
            "NB sem KMeans acc: 0.8455102040816327\n",
            "NB com KMeans acc: 0.48789473684210527\n"
          ],
          "name": "stdout"
        }
      ]
    },
    {
      "cell_type": "code",
      "metadata": {
        "id": "IbNlXGqStNeJ",
        "outputId": "277661f4-8a29-44a1-f9b6-064865565eee",
        "colab": {
          "base_uri": "https://localhost:8080/",
          "height": 350
        }
      },
      "source": [
        "fig, ax = plt.subplots(figsize = (5, 5))\n",
        "ax.bar(\"1NN\", knn_acc[0]  , color = 'c')\n",
        "ax.bar(\"NB sem KMeans\", nb_acc[0], color = 'c')\n",
        "ax.bar(\"NB com KMeans\", nbk_acc[0], color = 'k')\n",
        "ax.set(xlabel = 'Algoritmo'\n",
        "       , ylabel = 'Acurácia'\n",
        "       , title = 'Algoritmo x Acurácia')\n",
        "\n",
        "plt.show()"
      ],
      "execution_count": 292,
      "outputs": [
        {
          "output_type": "display_data",
          "data": {
            "image/png": "[encoded data removed]",
            "text/plain": [
              "<Figure size 360x360 with 1 Axes>"
            ]
          },
          "metadata": {
            "tags": [],
            "needs_background": "light"
          }
        }
      ]
    }
  ]
}